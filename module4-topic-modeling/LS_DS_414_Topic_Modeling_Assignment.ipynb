{
 "cells": [
  {
   "cell_type": "markdown",
   "metadata": {},
   "source": [
    "<img align=\"left\" src=\"https://lever-client-logos.s3.amazonaws.com/864372b1-534c-480e-acd5-9711f850815c-1524247202159.png\" width=200>\n",
    "<br></br>\n",
    "<br></br>\n",
    "\n",
    "# Topic Modeling\n",
    "## *Data Science Unit 4 Sprint 1 Assignment 4*\n",
    "\n",
    "Analyze a corpus of Amazon reviews from Unit 4 Sprint 1 Module 1's lecture using topic modeling: \n",
    "\n",
    "- Fit a Gensim LDA topic model on Amazon Reviews\n",
    "- Select appropriate number of topics\n",
    "- Create some dope visualization of the topics\n",
    "- Write a few bullets on your findings in markdown at the end\n",
    "- **Note**: You don't *have* to use generators for this assignment"
   ]
  },
  {
   "cell_type": "code",
   "execution_count": 1,
   "metadata": {},
   "outputs": [],
   "source": [
    "#Start Here\n",
    "\n",
    "import numpy as np\n",
    "import gensim\n",
    "import os\n",
    "import re\n",
    "from ast import literal_eval\n",
    "\n",
    "import gensim\n",
    "import os\n",
    "import re\n",
    "from ast import literal_eval\n",
    "\n",
    "from gensim.utils import simple_preprocess\n",
    "from gensim.parsing.preprocessing import STOPWORDS \n",
    "from gensim import corpora\n",
    "\n",
    "from gensim.models.ldamulticore import LdaMulticore\n",
    "\n",
    "from gensim.utils import simple_preprocess\n",
    "from gensim.parsing.preprocessing import STOPWORDS \n",
    "from gensim import corpora\n",
    "\n",
    "from gensim.models.ldamulticore import LdaMulticore\n",
    "\n",
    "import pandas as pd\n",
    "import tqdm"
   ]
  },
  {
   "cell_type": "code",
   "execution_count": 2,
   "metadata": {},
   "outputs": [],
   "source": [
    "import warnings\n",
    "warnings.filterwarnings(\"ignore\", category=DeprecationWarning)"
   ]
  },
  {
   "cell_type": "code",
   "execution_count": 3,
   "metadata": {},
   "outputs": [
    {
     "name": "stdout",
     "output_type": "stream",
     "text": [
      "(28332, 24)\n"
     ]
    },
    {
     "data": {
      "text/html": [
       "<div>\n",
       "<style scoped>\n",
       "    .dataframe tbody tr th:only-of-type {\n",
       "        vertical-align: middle;\n",
       "    }\n",
       "\n",
       "    .dataframe tbody tr th {\n",
       "        vertical-align: top;\n",
       "    }\n",
       "\n",
       "    .dataframe thead th {\n",
       "        text-align: right;\n",
       "    }\n",
       "</style>\n",
       "<table border=\"1\" class=\"dataframe\">\n",
       "  <thead>\n",
       "    <tr style=\"text-align: right;\">\n",
       "      <th></th>\n",
       "      <th>id</th>\n",
       "      <th>dateAdded</th>\n",
       "      <th>dateUpdated</th>\n",
       "      <th>name</th>\n",
       "      <th>asins</th>\n",
       "      <th>brand</th>\n",
       "      <th>categories</th>\n",
       "      <th>primaryCategories</th>\n",
       "      <th>imageURLs</th>\n",
       "      <th>keys</th>\n",
       "      <th>...</th>\n",
       "      <th>reviews.didPurchase</th>\n",
       "      <th>reviews.doRecommend</th>\n",
       "      <th>reviews.id</th>\n",
       "      <th>reviews.numHelpful</th>\n",
       "      <th>reviews.rating</th>\n",
       "      <th>reviews.sourceURLs</th>\n",
       "      <th>reviews.text</th>\n",
       "      <th>reviews.title</th>\n",
       "      <th>reviews.username</th>\n",
       "      <th>sourceURLs</th>\n",
       "    </tr>\n",
       "  </thead>\n",
       "  <tbody>\n",
       "    <tr>\n",
       "      <th>0</th>\n",
       "      <td>AVpgNzjwLJeJML43Kpxn</td>\n",
       "      <td>2015-10-30T08:59:32Z</td>\n",
       "      <td>2019-04-25T09:08:16Z</td>\n",
       "      <td>AmazonBasics AAA Performance Alkaline Batterie...</td>\n",
       "      <td>B00QWO9P0O,B00LH3DMUO</td>\n",
       "      <td>Amazonbasics</td>\n",
       "      <td>AA,AAA,Health,Electronics,Health &amp; Household,C...</td>\n",
       "      <td>Health &amp; Beauty</td>\n",
       "      <td>https://images-na.ssl-images-amazon.com/images...</td>\n",
       "      <td>amazonbasics/hl002619,amazonbasicsaaaperforman...</td>\n",
       "      <td>...</td>\n",
       "      <td>NaN</td>\n",
       "      <td>NaN</td>\n",
       "      <td>NaN</td>\n",
       "      <td>NaN</td>\n",
       "      <td>3</td>\n",
       "      <td>https://www.amazon.com/product-reviews/B00QWO9...</td>\n",
       "      <td>I order 3 of them and one of the item is bad q...</td>\n",
       "      <td>... 3 of them and one of the item is bad quali...</td>\n",
       "      <td>Byger yang</td>\n",
       "      <td>https://www.barcodable.com/upc/841710106442,ht...</td>\n",
       "    </tr>\n",
       "    <tr>\n",
       "      <th>1</th>\n",
       "      <td>AVpgNzjwLJeJML43Kpxn</td>\n",
       "      <td>2015-10-30T08:59:32Z</td>\n",
       "      <td>2019-04-25T09:08:16Z</td>\n",
       "      <td>AmazonBasics AAA Performance Alkaline Batterie...</td>\n",
       "      <td>B00QWO9P0O,B00LH3DMUO</td>\n",
       "      <td>Amazonbasics</td>\n",
       "      <td>AA,AAA,Health,Electronics,Health &amp; Household,C...</td>\n",
       "      <td>Health &amp; Beauty</td>\n",
       "      <td>https://images-na.ssl-images-amazon.com/images...</td>\n",
       "      <td>amazonbasics/hl002619,amazonbasicsaaaperforman...</td>\n",
       "      <td>...</td>\n",
       "      <td>NaN</td>\n",
       "      <td>NaN</td>\n",
       "      <td>NaN</td>\n",
       "      <td>NaN</td>\n",
       "      <td>4</td>\n",
       "      <td>https://www.amazon.com/product-reviews/B00QWO9...</td>\n",
       "      <td>Bulk is always the less expensive way to go fo...</td>\n",
       "      <td>... always the less expensive way to go for pr...</td>\n",
       "      <td>ByMG</td>\n",
       "      <td>https://www.barcodable.com/upc/841710106442,ht...</td>\n",
       "    </tr>\n",
       "    <tr>\n",
       "      <th>2</th>\n",
       "      <td>AVpgNzjwLJeJML43Kpxn</td>\n",
       "      <td>2015-10-30T08:59:32Z</td>\n",
       "      <td>2019-04-25T09:08:16Z</td>\n",
       "      <td>AmazonBasics AAA Performance Alkaline Batterie...</td>\n",
       "      <td>B00QWO9P0O,B00LH3DMUO</td>\n",
       "      <td>Amazonbasics</td>\n",
       "      <td>AA,AAA,Health,Electronics,Health &amp; Household,C...</td>\n",
       "      <td>Health &amp; Beauty</td>\n",
       "      <td>https://images-na.ssl-images-amazon.com/images...</td>\n",
       "      <td>amazonbasics/hl002619,amazonbasicsaaaperforman...</td>\n",
       "      <td>...</td>\n",
       "      <td>NaN</td>\n",
       "      <td>NaN</td>\n",
       "      <td>NaN</td>\n",
       "      <td>NaN</td>\n",
       "      <td>5</td>\n",
       "      <td>https://www.amazon.com/product-reviews/B00QWO9...</td>\n",
       "      <td>Well they are not Duracell but for the price i...</td>\n",
       "      <td>... are not Duracell but for the price i am ha...</td>\n",
       "      <td>BySharon Lambert</td>\n",
       "      <td>https://www.barcodable.com/upc/841710106442,ht...</td>\n",
       "    </tr>\n",
       "    <tr>\n",
       "      <th>3</th>\n",
       "      <td>AVpgNzjwLJeJML43Kpxn</td>\n",
       "      <td>2015-10-30T08:59:32Z</td>\n",
       "      <td>2019-04-25T09:08:16Z</td>\n",
       "      <td>AmazonBasics AAA Performance Alkaline Batterie...</td>\n",
       "      <td>B00QWO9P0O,B00LH3DMUO</td>\n",
       "      <td>Amazonbasics</td>\n",
       "      <td>AA,AAA,Health,Electronics,Health &amp; Household,C...</td>\n",
       "      <td>Health &amp; Beauty</td>\n",
       "      <td>https://images-na.ssl-images-amazon.com/images...</td>\n",
       "      <td>amazonbasics/hl002619,amazonbasicsaaaperforman...</td>\n",
       "      <td>...</td>\n",
       "      <td>NaN</td>\n",
       "      <td>NaN</td>\n",
       "      <td>NaN</td>\n",
       "      <td>NaN</td>\n",
       "      <td>5</td>\n",
       "      <td>https://www.amazon.com/product-reviews/B00QWO9...</td>\n",
       "      <td>Seem to work as well as name brand batteries a...</td>\n",
       "      <td>... as well as name brand batteries at a much ...</td>\n",
       "      <td>Bymark sexson</td>\n",
       "      <td>https://www.barcodable.com/upc/841710106442,ht...</td>\n",
       "    </tr>\n",
       "    <tr>\n",
       "      <th>4</th>\n",
       "      <td>AVpgNzjwLJeJML43Kpxn</td>\n",
       "      <td>2015-10-30T08:59:32Z</td>\n",
       "      <td>2019-04-25T09:08:16Z</td>\n",
       "      <td>AmazonBasics AAA Performance Alkaline Batterie...</td>\n",
       "      <td>B00QWO9P0O,B00LH3DMUO</td>\n",
       "      <td>Amazonbasics</td>\n",
       "      <td>AA,AAA,Health,Electronics,Health &amp; Household,C...</td>\n",
       "      <td>Health &amp; Beauty</td>\n",
       "      <td>https://images-na.ssl-images-amazon.com/images...</td>\n",
       "      <td>amazonbasics/hl002619,amazonbasicsaaaperforman...</td>\n",
       "      <td>...</td>\n",
       "      <td>NaN</td>\n",
       "      <td>NaN</td>\n",
       "      <td>NaN</td>\n",
       "      <td>NaN</td>\n",
       "      <td>5</td>\n",
       "      <td>https://www.amazon.com/product-reviews/B00QWO9...</td>\n",
       "      <td>These batteries are very long lasting the pric...</td>\n",
       "      <td>... batteries are very long lasting the price ...</td>\n",
       "      <td>Bylinda</td>\n",
       "      <td>https://www.barcodable.com/upc/841710106442,ht...</td>\n",
       "    </tr>\n",
       "  </tbody>\n",
       "</table>\n",
       "<p>5 rows × 24 columns</p>\n",
       "</div>"
      ],
      "text/plain": [
       "                     id             dateAdded           dateUpdated  \\\n",
       "0  AVpgNzjwLJeJML43Kpxn  2015-10-30T08:59:32Z  2019-04-25T09:08:16Z   \n",
       "1  AVpgNzjwLJeJML43Kpxn  2015-10-30T08:59:32Z  2019-04-25T09:08:16Z   \n",
       "2  AVpgNzjwLJeJML43Kpxn  2015-10-30T08:59:32Z  2019-04-25T09:08:16Z   \n",
       "3  AVpgNzjwLJeJML43Kpxn  2015-10-30T08:59:32Z  2019-04-25T09:08:16Z   \n",
       "4  AVpgNzjwLJeJML43Kpxn  2015-10-30T08:59:32Z  2019-04-25T09:08:16Z   \n",
       "\n",
       "                                                name                  asins  \\\n",
       "0  AmazonBasics AAA Performance Alkaline Batterie...  B00QWO9P0O,B00LH3DMUO   \n",
       "1  AmazonBasics AAA Performance Alkaline Batterie...  B00QWO9P0O,B00LH3DMUO   \n",
       "2  AmazonBasics AAA Performance Alkaline Batterie...  B00QWO9P0O,B00LH3DMUO   \n",
       "3  AmazonBasics AAA Performance Alkaline Batterie...  B00QWO9P0O,B00LH3DMUO   \n",
       "4  AmazonBasics AAA Performance Alkaline Batterie...  B00QWO9P0O,B00LH3DMUO   \n",
       "\n",
       "          brand                                         categories  \\\n",
       "0  Amazonbasics  AA,AAA,Health,Electronics,Health & Household,C...   \n",
       "1  Amazonbasics  AA,AAA,Health,Electronics,Health & Household,C...   \n",
       "2  Amazonbasics  AA,AAA,Health,Electronics,Health & Household,C...   \n",
       "3  Amazonbasics  AA,AAA,Health,Electronics,Health & Household,C...   \n",
       "4  Amazonbasics  AA,AAA,Health,Electronics,Health & Household,C...   \n",
       "\n",
       "  primaryCategories                                          imageURLs  \\\n",
       "0   Health & Beauty  https://images-na.ssl-images-amazon.com/images...   \n",
       "1   Health & Beauty  https://images-na.ssl-images-amazon.com/images...   \n",
       "2   Health & Beauty  https://images-na.ssl-images-amazon.com/images...   \n",
       "3   Health & Beauty  https://images-na.ssl-images-amazon.com/images...   \n",
       "4   Health & Beauty  https://images-na.ssl-images-amazon.com/images...   \n",
       "\n",
       "                                                keys  ... reviews.didPurchase  \\\n",
       "0  amazonbasics/hl002619,amazonbasicsaaaperforman...  ...                 NaN   \n",
       "1  amazonbasics/hl002619,amazonbasicsaaaperforman...  ...                 NaN   \n",
       "2  amazonbasics/hl002619,amazonbasicsaaaperforman...  ...                 NaN   \n",
       "3  amazonbasics/hl002619,amazonbasicsaaaperforman...  ...                 NaN   \n",
       "4  amazonbasics/hl002619,amazonbasicsaaaperforman...  ...                 NaN   \n",
       "\n",
       "  reviews.doRecommend reviews.id reviews.numHelpful reviews.rating  \\\n",
       "0                 NaN        NaN                NaN              3   \n",
       "1                 NaN        NaN                NaN              4   \n",
       "2                 NaN        NaN                NaN              5   \n",
       "3                 NaN        NaN                NaN              5   \n",
       "4                 NaN        NaN                NaN              5   \n",
       "\n",
       "                                  reviews.sourceURLs  \\\n",
       "0  https://www.amazon.com/product-reviews/B00QWO9...   \n",
       "1  https://www.amazon.com/product-reviews/B00QWO9...   \n",
       "2  https://www.amazon.com/product-reviews/B00QWO9...   \n",
       "3  https://www.amazon.com/product-reviews/B00QWO9...   \n",
       "4  https://www.amazon.com/product-reviews/B00QWO9...   \n",
       "\n",
       "                                        reviews.text  \\\n",
       "0  I order 3 of them and one of the item is bad q...   \n",
       "1  Bulk is always the less expensive way to go fo...   \n",
       "2  Well they are not Duracell but for the price i...   \n",
       "3  Seem to work as well as name brand batteries a...   \n",
       "4  These batteries are very long lasting the pric...   \n",
       "\n",
       "                                       reviews.title  reviews.username  \\\n",
       "0  ... 3 of them and one of the item is bad quali...        Byger yang   \n",
       "1  ... always the less expensive way to go for pr...              ByMG   \n",
       "2  ... are not Duracell but for the price i am ha...  BySharon Lambert   \n",
       "3  ... as well as name brand batteries at a much ...     Bymark sexson   \n",
       "4  ... batteries are very long lasting the price ...           Bylinda   \n",
       "\n",
       "                                          sourceURLs  \n",
       "0  https://www.barcodable.com/upc/841710106442,ht...  \n",
       "1  https://www.barcodable.com/upc/841710106442,ht...  \n",
       "2  https://www.barcodable.com/upc/841710106442,ht...  \n",
       "3  https://www.barcodable.com/upc/841710106442,ht...  \n",
       "4  https://www.barcodable.com/upc/841710106442,ht...  \n",
       "\n",
       "[5 rows x 24 columns]"
      ]
     },
     "execution_count": 3,
     "metadata": {},
     "output_type": "execute_result"
    }
   ],
   "source": [
    "df = pd.read_csv('./data/Datafiniti_Amazon_Consumer_Reviews_of_Amazon_Products_May19.csv')\n",
    "print(df.shape)\n",
    "df.head()"
   ]
  },
  {
   "cell_type": "code",
   "execution_count": 4,
   "metadata": {},
   "outputs": [
    {
     "data": {
      "text/plain": [
       "['id',\n",
       " 'dateAdded',\n",
       " 'dateUpdated',\n",
       " 'name',\n",
       " 'asins',\n",
       " 'brand',\n",
       " 'categories',\n",
       " 'primaryCategories',\n",
       " 'imageURLs',\n",
       " 'keys',\n",
       " 'manufacturer',\n",
       " 'manufacturerNumber',\n",
       " 'reviews.date',\n",
       " 'reviews.dateSeen',\n",
       " 'reviews.didPurchase',\n",
       " 'reviews.doRecommend',\n",
       " 'reviews.id',\n",
       " 'reviews.numHelpful',\n",
       " 'reviews.rating',\n",
       " 'reviews.sourceURLs',\n",
       " 'reviews.text',\n",
       " 'reviews.title',\n",
       " 'reviews.username',\n",
       " 'sourceURLs']"
      ]
     },
     "execution_count": 4,
     "metadata": {},
     "output_type": "execute_result"
    }
   ],
   "source": [
    "# subset to a product/category\n",
    "list(df)"
   ]
  },
  {
   "cell_type": "code",
   "execution_count": 5,
   "metadata": {},
   "outputs": [
    {
     "data": {
      "text/plain": [
       "Electronics                    13995\n",
       "Health & Beauty                12071\n",
       "Toys & Games,Electronics        1676\n",
       "Office Supplies,Electronics      386\n",
       "Electronics,Media                185\n",
       "Office Supplies                    9\n",
       "Animals & Pet Supplies             6\n",
       "Home & Garden                      2\n",
       "Electronics,Furniture              2\n",
       "Name: primaryCategories, dtype: int64"
      ]
     },
     "execution_count": 5,
     "metadata": {},
     "output_type": "execute_result"
    }
   ],
   "source": [
    "df['primaryCategories'].value_counts()"
   ]
  },
  {
   "cell_type": "code",
   "execution_count": 6,
   "metadata": {},
   "outputs": [],
   "source": [
    "df = df[df['primaryCategories'] == 'Electronics'].copy()"
   ]
  },
  {
   "cell_type": "code",
   "execution_count": 8,
   "metadata": {},
   "outputs": [],
   "source": [
    "# Get Tokens\n",
    "import spacy\n",
    "nlp = spacy.load(\"en_core_web_lg\")\n",
    "\n",
    "def tokenize(document):\n",
    "    \"\"\"tokenizes text and returns the lemmas, excludes puncttion, and stop words\"\"\"\n",
    "    doc = nlp(document)\n",
    "    \n",
    "    return [token.lemma_.strip() for token in doc if (token.is_stop != True) and (token.is_punct != True)]"
   ]
  },
  {
   "cell_type": "code",
   "execution_count": 9,
   "metadata": {},
   "outputs": [],
   "source": [
    "# tokens column\n",
    "\n",
    "df['tokens'] = df['reviews.text'].apply(tokenize)"
   ]
  },
  {
   "cell_type": "code",
   "execution_count": 10,
   "metadata": {},
   "outputs": [
    {
     "data": {
      "text/plain": [
       "8343    [great, case, place, husband, love, hold, lot,...\n",
       "8344    [discard, get, rid, broken, cd, case, broken, ...\n",
       "8345                            [dollar, boycott, amazon]\n",
       "8346    [initial, impression, good, material, nice, sh...\n",
       "8347    [pro, Standard, Echo, con, old, generation, Ec...\n",
       "Name: tokens, dtype: object"
      ]
     },
     "execution_count": 10,
     "metadata": {},
     "output_type": "execute_result"
    }
   ],
   "source": [
    "df['tokens'].head()"
   ]
  },
  {
   "cell_type": "code",
   "execution_count": 11,
   "metadata": {},
   "outputs": [],
   "source": [
    "# stop words\n",
    "stop_words = [\n",
    "    'order',\n",
    "    'buy',\n",
    "    'good', \n",
    "    'bad',\n",
    "    'battery'\n",
    "    'well'\n",
    "    'perfect'\n",
    "    \n",
    "]\n",
    "\n",
    "stops = nlp.Defaults.stop_words.union(stop_words)\n",
    "\n",
    "# stop words function\n",
    "def remove_stops(_list_):\n",
    "    \n",
    "    keywords = []\n",
    "    \n",
    "    for keyword in _list_:\n",
    "        \n",
    "        phrase = []\n",
    "        \n",
    "        words = keyword.split()\n",
    "        \n",
    "        for word in words:\n",
    "            if word in stops:\n",
    "                pass\n",
    "            else: \n",
    "                phrase.append(word)\n",
    "            \n",
    "        phrase = ' '.join(phrase)\n",
    "        \n",
    "        if len(phrase) > 0:\n",
    "            keywords.append(phrase)\n",
    "    \n",
    "    return keywords"
   ]
  },
  {
   "cell_type": "code",
   "execution_count": 12,
   "metadata": {},
   "outputs": [
    {
     "name": "stderr",
     "output_type": "stream",
     "text": [
      "/opt/anaconda3/envs/U4-S1-NLP/lib/python3.7/site-packages/tqdm/std.py:703: FutureWarning: The Panel class is removed from pandas. Accessing it from the top-level namespace will also be removed in the next version\n",
      "  from pandas import Panel\n",
      "100%|██████████| 13995/13995 [00:00<00:00, 37965.64it/s]\n"
     ]
    }
   ],
   "source": [
    "# clean column from tokens for the text reviews column\n",
    "\n",
    "from tqdm import tqdm\n",
    "\n",
    "tqdm.pandas()\n",
    "\n",
    "df['clean_keywords'] = df['tokens'].progress_apply(remove_stops)"
   ]
  },
  {
   "cell_type": "code",
   "execution_count": 17,
   "metadata": {},
   "outputs": [],
   "source": [
    "import gensim\n",
    "from gensim import corpora\n",
    "from gensim.models.ldamulticore import LdaMulticore"
   ]
  },
  {
   "cell_type": "code",
   "execution_count": 18,
   "metadata": {},
   "outputs": [
    {
     "name": "stdout",
     "output_type": "stream",
     "text": [
      "6794\n"
     ]
    }
   ],
   "source": [
    "# create id2word\n",
    "id2word = corpora.Dictionary(df['clean_keywords'])\n",
    "print(len(id2word))"
   ]
  },
  {
   "cell_type": "code",
   "execution_count": 14,
   "metadata": {},
   "outputs": [
    {
     "name": "stdout",
     "output_type": "stream",
     "text": [
      "2162\n"
     ]
    }
   ],
   "source": [
    "id2word.filter_extremes(no_below=5, no_above=.98)\n",
    "print(len(id2word))"
   ]
  },
  {
   "cell_type": "code",
   "execution_count": 20,
   "metadata": {},
   "outputs": [
    {
     "data": {
      "text/plain": [
       "[(6, 1), (83, 1), (166, 1), (175, 1), (543, 1), (883, 1), (1514, 1)]"
      ]
     },
     "execution_count": 20,
     "metadata": {},
     "output_type": "execute_result"
    }
   ],
   "source": [
    "# create corpus object - represents the transform statement\n",
    "corpus = [id2word.doc2bow(text) for text in df['clean_keywords']]\n",
    "corpus[800]"
   ]
  },
  {
   "cell_type": "code",
   "execution_count": 21,
   "metadata": {},
   "outputs": [
    {
     "data": {
      "text/plain": [
       "[(0,\n",
       "  '0.016*\"Amazon\" + 0.015*\"device\" + 0.014*\"screen\" + 0.014*\"like\" + 0.012*\"tablet\" + 0.012*\"app\" + 0.012*\"work\" + 0.009*\"sound\" + 0.008*\"great\" + 0.008*\"little\"'),\n",
       " (1,\n",
       "  '0.052*\"love\" + 0.048*\"kid\" + 0.046*\"tablet\" + 0.033*\"old\" + 0.033*\"year\" + 0.022*\"great\" + 0.018*\"game\" + 0.018*\"app\" + 0.016*\"child\" + 0.015*\"use\"'),\n",
       " (2,\n",
       "  '0.066*\"easy\" + 0.063*\"use\" + 0.049*\"love\" + 0.039*\"gift\" + 0.026*\"great\" + 0.022*\"read\" + 0.018*\"Christmas\" + 0.015*\"purchase\" + 0.013*\"enjoy\" + 0.012*\"like\"'),\n",
       " (3,\n",
       "  '0.049*\"tablet\" + 0.028*\"great\" + 0.027*\"book\" + 0.023*\"read\" + 0.022*\"use\" + 0.017*\"game\" + 0.016*\"app\" + 0.014*\"Amazon\" + 0.014*\"movie\" + 0.013*\"price\"'),\n",
       " (4,\n",
       "  '0.052*\"tablet\" + 0.049*\"great\" + 0.035*\"price\" + 0.026*\"love\" + 0.025*\"Fire\" + 0.021*\"Kindle\" + 0.017*\"fire\" + 0.017*\"purchase\" + 0.016*\"kindle\" + 0.015*\"8\"')]"
      ]
     },
     "execution_count": 21,
     "metadata": {},
     "output_type": "execute_result"
    }
   ],
   "source": [
    "#create lda model\n",
    "\n",
    "lda = LdaMulticore(corpus=corpus,\n",
    "                   id2word=id2word,\n",
    "                   num_topics=5,\n",
    "                   passes=50, \n",
    "                   workers=4\n",
    "                  )\n",
    "\n",
    "# print lda model topics with associated words\n",
    "lda.print_topics()"
   ]
  },
  {
   "cell_type": "code",
   "execution_count": 22,
   "metadata": {},
   "outputs": [
    {
     "data": {
      "text/plain": [
       "[['\"Amazon\"',\n",
       "  '\"device\"',\n",
       "  '\"screen\"',\n",
       "  '\"like\"',\n",
       "  '\"tablet\"',\n",
       "  '\"app\"',\n",
       "  '\"work\"',\n",
       "  '\"sound\"',\n",
       "  '\"great\"',\n",
       "  '\"little\"'],\n",
       " ['\"love\"',\n",
       "  '\"kid\"',\n",
       "  '\"tablet\"',\n",
       "  '\"old\"',\n",
       "  '\"year\"',\n",
       "  '\"great\"',\n",
       "  '\"game\"',\n",
       "  '\"app\"',\n",
       "  '\"child\"',\n",
       "  '\"use\"'],\n",
       " ['\"easy\"',\n",
       "  '\"use\"',\n",
       "  '\"love\"',\n",
       "  '\"gift\"',\n",
       "  '\"great\"',\n",
       "  '\"read\"',\n",
       "  '\"Christmas\"',\n",
       "  '\"purchase\"',\n",
       "  '\"enjoy\"',\n",
       "  '\"like\"'],\n",
       " ['\"tablet\"',\n",
       "  '\"great\"',\n",
       "  '\"book\"',\n",
       "  '\"read\"',\n",
       "  '\"use\"',\n",
       "  '\"game\"',\n",
       "  '\"app\"',\n",
       "  '\"Amazon\"',\n",
       "  '\"movie\"',\n",
       "  '\"price\"'],\n",
       " ['\"tablet\"',\n",
       "  '\"great\"',\n",
       "  '\"price\"',\n",
       "  '\"love\"',\n",
       "  '\"Fire\"',\n",
       "  '\"Kindle\"',\n",
       "  '\"fire\"',\n",
       "  '\"purchase\"',\n",
       "  '\"kindle\"',\n",
       "  '\"8\"']]"
      ]
     },
     "execution_count": 22,
     "metadata": {},
     "output_type": "execute_result"
    }
   ],
   "source": [
    "# see most valuable words associated with each topic in a reader-friendly version\n",
    "# by applying regular expression\n",
    "\n",
    "words = [re.findall(r'\"[^\"]*\"', t[1]) for t in lda.print_topics(20)]\n",
    "words\n"
   ]
  },
  {
   "cell_type": "code",
   "execution_count": 23,
   "metadata": {},
   "outputs": [
    {
     "data": {
      "text/plain": [
       "['\"Amazon\", \"device\", \"screen\", \"like\", \"tablet\"',\n",
       " '\"love\", \"kid\", \"tablet\", \"old\", \"year\"',\n",
       " '\"easy\", \"use\", \"love\", \"gift\", \"great\"',\n",
       " '\"tablet\", \"great\", \"book\", \"read\", \"use\"',\n",
       " '\"tablet\", \"great\", \"price\", \"love\", \"Fire\"']"
      ]
     },
     "execution_count": 23,
     "metadata": {},
     "output_type": "execute_result"
    }
   ],
   "source": [
    "# topic labels (list to str format)\n",
    "\n",
    "topic_labels= [', '.join(t[0:5]) for t in words]\n",
    "topic_labels"
   ]
  },
  {
   "cell_type": "code",
   "execution_count": 24,
   "metadata": {},
   "outputs": [
    {
     "name": "stdout",
     "output_type": "stream",
     "text": [
      "------ Topic 0 ------\n",
      "\"Amazon\", \"device\", \"screen\", \"like\", \"tablet\"\n",
      "\n",
      "------ Topic 1 ------\n",
      "\"love\", \"kid\", \"tablet\", \"old\", \"year\"\n",
      "\n",
      "------ Topic 2 ------\n",
      "\"easy\", \"use\", \"love\", \"gift\", \"great\"\n",
      "\n",
      "------ Topic 3 ------\n",
      "\"tablet\", \"great\", \"book\", \"read\", \"use\"\n",
      "\n",
      "------ Topic 4 ------\n",
      "\"tablet\", \"great\", \"price\", \"love\", \"Fire\"\n",
      "\n"
     ]
    }
   ],
   "source": [
    "for id, t in enumerate(topic_labels): \n",
    "    print(f\"------ Topic {id} ------\")\n",
    "    print(t, end=\"\\n\\n\")"
   ]
  },
  {
   "cell_type": "code",
   "execution_count": 27,
   "metadata": {},
   "outputs": [
    {
     "name": "stderr",
     "output_type": "stream",
     "text": [
      "/opt/anaconda3/envs/U4-S1-NLP/lib/python3.7/site-packages/ipykernel/ipkernel.py:287: DeprecationWarning: `should_run_async` will not call `transform_cell` automatically in the future. Please pass the result to `transformed_cell` argument and any exception that happen during thetransform in `preprocessing_exc_tuple` in IPython 7.17 and above.\n",
      "  and should_run_async(code)\n"
     ]
    }
   ],
   "source": [
    "import warnings\n",
    "warnings.filterwarnings(\"ignore\", category=DeprecationWarning)"
   ]
  },
  {
   "cell_type": "code",
   "execution_count": 28,
   "metadata": {},
   "outputs": [
    {
     "data": {
      "text/html": [
       "\n",
       "<link rel=\"stylesheet\" type=\"text/css\" href=\"https://cdn.rawgit.com/bmabey/pyLDAvis/files/ldavis.v1.0.0.css\">\n",
       "\n",
       "\n",
       "<div id=\"ldavis_el696011406379358737443515247557\"></div>\n",
       "<script type=\"text/javascript\">\n",
       "\n",
       "var ldavis_el696011406379358737443515247557_data = {\"mdsDat\": {\"x\": [0.07511369288694938, 0.1504205881727464, -0.13231218611035958, 0.09031582155609429, -0.18353791650543022], \"y\": [0.059379016397430553, 0.13030242617796767, -0.03229215050388725, -0.20894325915397985, 0.05155396708246898], \"topics\": [1, 2, 3, 4, 5], \"cluster\": [1, 1, 1, 1, 1], \"Freq\": [23.839652528587404, 22.1105139680864, 21.962053245941075, 18.543582638479993, 13.544197618905127]}, \"tinfo\": {\"Term\": [\"kid\", \"easy\", \"use\", \"love\", \"gift\", \"year\", \"tablet\", \"read\", \"old\", \"price\", \"book\", \"Fire\", \"game\", \"child\", \"movie\", \"great\", \"Kindle\", \"Christmas\", \"8\", \"app\", \"play\", \"watch\", \"daughter\", \"2\", \"internet\", \"fire\", \"enjoy\", \"purchase\", \"screen\", \"device\", \"web\", \"email\", \"surf\", \"internet\", \"browse\", \"movie\", \"ebook\", \"social\", \"surfing\", \"netflix\", \"facebook\", \"Hulu\", \"got\", \"Wi\", \"player\", \"basic\", \"Fi\", \"fraction\", \"junk\", \"offline\", \"speedy\", \"chrome\", \"watching\", \"sufficient\", \"article\", \"secure\", \"buying\", \"college\", \"series\", \"wi\", \"streaming\", \"prime\", \"check\", \"Netflix\", \"google\", \"e\", \"Facebook\", \"tv\", \"book\", \"watch\", \"trip\", \"playing\", \"medium\", \"reading\", \"read\", \"browsing\", \"Prime\", \"iPad\", \"video\", \"reader\", \"game\", \"amazon\", \"tablet\", \"music\", \"play\", \"download\", \"want\", \"app\", \"great\", \"Amazon\", \"use\", \"need\", \"price\", \"work\", \"look\", \"perfect\", \"like\", \"screen\", \"love\", \"easy\", \"speaker\", \"Alexa\", \"button\", \"tap\", \"Echo\", \"keyboard\", \"Play\", \"echo\", \"voice\", \"Paperwhite\", \"Tap\", \"cable\", \"pocket\", \"press\", \"loud\", \"answer\", \"swipe\", \"activate\", \"brightness\", \"backpack\", \"automatically\", \"okay\", \"image\", \"push\", \"dot\", \"font\", \"Dot\", \"crazy\", \"realize\", \"speak\", \"sound\", \"touch\", \"page\", \"plug\", \"Bluetooth\", \"annoying\", \"appear\", \"turn\", \"device\", \"portable\", \"Voyage\", \"return\", \"ad\", \"compare\", \"Apple\", \"try\", \"find\", \"charge\", \"design\", \"screen\", \"hand\", \"Amazon\", \"little\", \"like\", \"work\", \"app\", \"small\", \"Google\", \"store\", \"nice\", \"need\", \"want\", \"battery\", \"tablet\", \"size\", \"great\", \"product\", \"quality\", \"price\", \"use\", \"time\", \"kid\", \"child\", \"parental\", \"age\", \"yr\", \"educational\", \"young\", \"adult\", \"learning\", \"grand\", \"entertain\", \"profile\", \"appropriate\", \"safe\", \"niece\", \"bumper\", \"girl\", \"proof\", \"rubber\", \"rough\", \"guarantee\", \"FreeTime\", \"cartoon\", \"Freetime\", \"restriction\", \"maneuver\", \"kiddo\", \"durable\", \"twin\", \"Nabi\", \"control\", \"protect\", \"2\", \"year\", \"friendly\", \"limit\", \"warranty\", \"parent\", \"9\", \"drop\", \"old\", \"3\", \"4\", \"daughter\", \"son\", \"love\", \"case\", \"granddaughter\", \"game\", \"time\", \"tablet\", \"play\", \"app\", \"learn\", \"5\", \"set\", \"great\", \"use\", \"easy\", \"come\", \"purchase\", \"lot\", \"like\", \"perfect\", \"HD\", \"generation\", \"sd\", \"die\", \"inch\", \"Black\", \"1st\", \"GB\", \"HDX\", \"anymore\", \"entry\", \"Geek\", \"Squad\", \"gen\", \"memory\", \"teenager\", \"darn\", \"fingertip\", \"2017\", \"prize\", \"faster\", \"Friday\", \"128\", \"ensure\", \"fourth\", \"6th\", \"Hd8\", \"def\", \"HD7\", \"hdx\", \"upgrade\", \"gb\", \"16\", \"hd\", \"8\", \"improvement\", \"model\", \"original\", \"previous\", \"Fire\", \"7\", \"card\", \"slot\", \"highly\", \"replace\", \"fast\", \"price\", \"storage\", \"satisfied\", \"fire\", \"sale\", \"Kindle\", \"new\", \"kindle\", \"great\", \"tablet\", \"recommend\", \"purchase\", \"screen\", \"product\", \"love\", \"feature\", \"old\", \"Amazon\", \"happy\", \"battery\", \"work\", \"nice\", \"look\", \"friend\", \"law\", \"savvy\", \"gift\", \"christmas\", \"dad\", \"pic\", \"Mother\", \"Day\", \"teenage\", \"Dad\", \"girlfriend\", \"WIFI\", \"morning\", \"Mom\", \"logic\", \"grab\", \"relative\", \"paper\", \"cute\", \"ready\", \"lunch\", \"grandparent\", \"sleeve\", \"novice\", \"thumb\", \"techie\", \"Xbox\", \"mistake\", \"active\", \"present\", \"mom\", \"mother\", \"tech\", \"family\", \"thank\", \"easy\", \"challenge\", \"Christmas\", \"husband\", \"everyday\", \"use\", \"sister\", \"father\", \"lightweight\", \"birthday\", \"receive\", \"enjoy\", \"read\", \"love\", \"carry\", \"wife\", \"happy\", \"set\", \"size\", \"light\", \"purchase\", \"perfect\", \"right\", \"great\", \"grandson\", \"Kindle\", \"book\", \"like\", \"product\", \"kindle\", \"item\", \"daughter\", \"work\", \"recommend\", \"time\"], \"Freq\": [1898.0, 2506.0, 3277.0, 4457.0, 974.0, 1479.0, 6188.0, 1536.0, 1841.0, 1963.0, 1478.0, 1010.0, 1484.0, 635.0, 623.0, 4746.0, 1308.0, 638.0, 582.0, 1874.0, 1178.0, 703.0, 747.0, 506.0, 422.0, 972.0, 631.0, 1541.0, 1359.0, 884.0, 259.9318622556891, 234.12840316063586, 148.55245872693743, 420.4050207664035, 98.72885200371502, 617.2601074910363, 80.7312279448122, 46.66876957409407, 45.437515743449794, 34.76897353157875, 44.67680934316984, 24.041513205076136, 23.666744935445873, 23.153776765389864, 22.876958031657846, 187.6813449806398, 22.35532855048149, 22.011798541063236, 21.130799097308127, 20.118273656757154, 18.81138351348693, 17.15549578196913, 16.792278450858042, 16.77338735400742, 15.62916682929314, 14.773649104180837, 13.449817416169683, 34.65933173040645, 13.09132191288673, 13.470875102646417, 51.22399334776622, 158.99699046125164, 156.91378362051765, 189.9739475982611, 134.3883481310048, 212.7419098939118, 69.2900044138774, 126.44992336185881, 1181.9466621676772, 559.272690108943, 123.55206872693861, 89.90962842433203, 74.35324739749281, 249.88910229595498, 989.6911556282118, 55.728425295212254, 155.05336831407968, 318.2377897642032, 352.2500720895558, 278.9585217485431, 750.6910577106605, 247.13781360061085, 2117.3167394678985, 258.18207551401554, 572.8940453975372, 368.3481585678401, 468.50647012853085, 687.3320122710411, 1235.1575582674968, 619.0413091513655, 932.659753174255, 436.07056661661727, 580.4502620528855, 499.2543668801886, 271.61720251875414, 276.45083999953476, 316.456931325993, 253.68067704441526, 302.08383883866946, 271.12605166648234, 315.08057883734483, 283.3077473579487, 207.62107280402986, 197.08834546334327, 168.72234872376907, 96.68549579539373, 107.4954489553003, 77.48278608874666, 76.24197350531523, 64.67374078743718, 60.74035956129232, 83.98913375471317, 54.4572250245397, 52.90902040812515, 50.41174101736038, 41.04087635397308, 40.11924328432174, 40.11402833054581, 40.18186486121647, 37.752145805186295, 33.75739524643312, 33.04634987481641, 32.973080710521884, 31.978494463452034, 30.897948082889666, 29.87073794635436, 28.805850470980964, 30.50751469889095, 27.878286210634727, 26.451104567732237, 363.9303335292096, 140.73051789568788, 197.62160023401174, 103.9192827002331, 72.17415507761078, 60.608117883360116, 48.29731600685712, 214.07271026821954, 596.5270464634148, 136.42189874331513, 95.23528924212594, 164.99520159870048, 125.44354096299958, 125.07283920392508, 80.38312897597646, 190.8972684364684, 282.4568391730791, 321.5599669711788, 87.75684891337448, 579.1229574614554, 146.94347525824384, 634.4380564259981, 321.8098353488669, 549.4216516780178, 472.86025055070877, 479.9127780208944, 199.02950667747757, 161.9097653027213, 211.91856921836705, 267.28591134641016, 288.5302099183183, 266.8651572661756, 217.09871294378644, 486.2666702114381, 216.03622930931425, 340.37376003083205, 223.73267717607777, 178.51852235969255, 191.32139304338043, 191.70656934201975, 183.1928998320129, 1898.040598682392, 633.8800108477631, 303.4710505412462, 233.45679459148914, 172.72336946932785, 168.37543921075377, 165.6674568779305, 138.2310082998642, 129.99836629982832, 110.87362584973381, 101.28117106530374, 97.83990665911563, 84.17347245082526, 63.23629771790022, 144.79279944035355, 54.55301505749558, 45.239505051639746, 35.234731383680696, 31.79698691743892, 34.48188969686239, 26.93282049939044, 25.249889317544596, 24.34479511601974, 23.034168493781866, 22.005918242826816, 20.94731839077568, 20.258593549294265, 222.8108408455246, 15.463379825386097, 16.400361567422163, 367.83322220782054, 77.66094652002077, 460.48682052090595, 1301.1924020061167, 270.30123822126274, 161.53529847308138, 185.11705477110405, 127.72904195202153, 89.37158212787766, 197.49171286778065, 1331.5655499659897, 309.78652028316594, 260.5486889423117, 544.115423007515, 500.17667758661236, 2067.381756899189, 373.65045072764013, 227.69491794105025, 728.3347768459379, 567.6400046931465, 1834.3927934805938, 561.9916588930772, 705.6099329558814, 244.27938701470782, 217.81585541763437, 310.9940317293801, 885.292293446935, 594.9894823904251, 520.1960500653397, 252.26091826591684, 361.69995236927895, 261.1286932080266, 318.488332614226, 239.63319648147353, 188.44144054808905, 89.84845543882447, 82.42411226738322, 42.31863593890879, 119.71406886644127, 106.90983811370532, 34.6299767153885, 142.34261354122816, 23.611607774622062, 22.872521625699985, 22.082282470486778, 20.051719344286912, 19.25367119916557, 19.186908065235055, 268.45295576443795, 15.913595626914416, 14.549343692781608, 14.299820160424213, 13.816430336410093, 13.531402204763245, 98.1895873741812, 149.74564590461443, 43.4993206634402, 11.549133892469834, 11.134371112873353, 9.959854273281953, 9.544559508701786, 9.536655311148971, 9.10744158152516, 9.106366814814576, 255.0637064253616, 82.03267339768958, 113.04232544033427, 248.87988156628484, 510.64546807262263, 63.31201581738169, 184.37588174184, 113.79006468817919, 131.38355012939954, 834.7043682286884, 332.391818714405, 220.12649758515107, 40.66597649250399, 162.4765844383433, 245.70659702772886, 348.9706537112422, 1186.2336380722436, 205.73854557293686, 81.83786088927252, 584.0648923451452, 184.1833934777797, 699.6430311961301, 420.1306611993246, 529.9304773097202, 1638.5598577363703, 1748.8046724149647, 389.65881260343497, 566.6950604580258, 476.90544923274734, 450.0124972243775, 886.2699907105626, 285.13726120114046, 442.26933996721476, 378.8180657928489, 221.3203896711963, 232.14648431972245, 295.66191077920587, 237.74604440143938, 206.0293116828395, 169.3573350104671, 76.97719124164766, 43.55065993400665, 955.0435287928127, 38.72518184709599, 53.13547760713417, 25.162863450119954, 24.6607941162241, 23.77145438176032, 20.54576866915872, 17.320802726053916, 16.088699294110057, 15.267587112445334, 14.542363426074134, 19.18238329564951, 13.893448210597514, 12.665973097250598, 11.174918967697817, 37.34870441128547, 11.231942777771817, 45.996700504021, 9.935595616827415, 9.99415431384628, 24.449941800168126, 9.203265282028172, 9.099793398550256, 8.75783263118613, 8.79985885373721, 8.737313465312276, 8.468405717363687, 129.4620086941068, 184.89470950947913, 124.92032625667859, 87.55488362008312, 164.78256038183153, 115.65964000092977, 1632.5197140717316, 22.38604004699852, 431.10859551167243, 109.98307319675767, 63.698040488099096, 1557.043182011149, 67.57344578009705, 40.06013345787412, 75.91232238101458, 105.94296973233307, 71.56622798461663, 309.4441967568912, 540.4874982074685, 1201.2063943213525, 108.21412638787845, 178.46715069742896, 224.98287669883013, 238.7167898644073, 273.60458516049556, 209.42261869151355, 367.9732140375403, 248.56530125804298, 140.8154634744974, 646.6254996649659, 143.68391984329782, 286.4312561176309, 284.482911779988, 295.7889248609562, 251.18032994138918, 184.44165045633935, 124.5596729894544, 154.62918789359998, 175.48249887042036, 146.36444468324507, 128.8075747678868], \"Total\": [1898.0, 2506.0, 3277.0, 4457.0, 974.0, 1479.0, 6188.0, 1536.0, 1841.0, 1963.0, 1478.0, 1010.0, 1484.0, 635.0, 623.0, 4746.0, 1308.0, 638.0, 582.0, 1874.0, 1178.0, 703.0, 747.0, 506.0, 422.0, 972.0, 631.0, 1541.0, 1359.0, 884.0, 260.7199234080324, 235.05091244075217, 149.33862036285865, 422.6585773325424, 99.51868095267247, 623.3153519529201, 81.53814078763195, 47.45393819352443, 46.22197738326225, 35.55592232177804, 45.88036100807854, 24.827550259919768, 24.459176388993892, 23.951162509141472, 23.66505668825947, 194.15002701657792, 23.15314536585072, 22.79777382227399, 21.92403059228692, 20.907522455226903, 19.602159701659247, 17.940181175523367, 17.576882713258623, 17.568521261711382, 16.415189467189833, 15.598562896015725, 14.238984220045813, 36.72300527571176, 13.878101381115943, 14.309679804230989, 54.69813705023765, 171.85310140420947, 170.2243839659968, 207.6569447878309, 145.92966663471157, 238.06087944764334, 75.38513469396732, 141.54181355583128, 1478.3658571467586, 703.5750447687009, 141.7326969843975, 105.38639496285832, 85.61496416420749, 331.1707164185392, 1536.431916712499, 63.331527100432254, 198.7117027488989, 456.5606658066998, 530.9302991379116, 419.332415160363, 1484.8442228526026, 379.99696090104476, 6188.264538445969, 423.8480254115263, 1178.108176322586, 668.9680065337657, 988.2297939322507, 1874.0638775082393, 4746.0089691466, 1701.7876858939408, 3277.157683817186, 1027.228051650187, 1963.6885672578671, 1607.740361843486, 625.2544937486236, 808.5979746930543, 1655.074560385583, 1359.8940929357175, 4457.287052006795, 2506.4284785146147, 315.8973672742204, 284.1179305616023, 208.3930809752705, 197.85964215087236, 169.49253885015906, 97.45731651196067, 108.37629845273801, 78.25384551184925, 77.0131613923799, 65.45846729705977, 61.51170278147231, 85.14688296517423, 55.230142024338214, 53.67982333857733, 51.19195605050514, 41.815081036434705, 40.88971268119365, 40.88679039585062, 40.95887826561118, 38.56294163392792, 34.52995290648995, 33.82410825820459, 33.750700654004035, 32.74973766928243, 31.668517891658016, 30.650851002649556, 29.575619775910553, 31.33502817985137, 28.702618668742087, 27.23655394879238, 386.33390164048905, 147.5583722216706, 209.31042226843343, 109.75894499850534, 75.7988793317312, 65.49924714255762, 51.65879277046509, 272.14353649522843, 884.1346169962637, 167.45148710075586, 113.36874026215665, 222.52817288248295, 162.61370968495743, 162.2980402201947, 94.80857631645715, 274.20209311432325, 459.0328101142499, 569.8840918160197, 105.92927502885813, 1359.8940929357175, 214.3015938513439, 1701.7876858939408, 669.1954891322171, 1655.074560385583, 1607.740361843486, 1874.0638775082393, 424.3617680713237, 293.8213032909566, 484.3026795686923, 802.7369774712427, 1027.228051650187, 988.2297939322507, 659.0996211840032, 6188.264538445969, 775.436173179855, 4746.0089691466, 1244.807521793236, 562.5603687909163, 1963.6885672578671, 3277.157683817186, 1126.8412814214782, 1898.8554848027707, 635.1043127985861, 304.27671159288695, 234.26622598351497, 173.5311106132858, 169.18063257042485, 166.53091253873535, 139.04174157618843, 130.8085396885264, 111.68517494687535, 102.09093702543363, 98.65626177780942, 84.97977323730808, 64.04336392052232, 146.74792040125254, 55.35781103184871, 46.09148413487014, 36.040179484536424, 32.605087082249035, 35.40101998703946, 27.74036066606117, 26.05782366588039, 25.149644424302927, 23.849497511187927, 22.814955630723865, 21.77265805114044, 21.065371520882692, 233.7454756838462, 16.269735554454368, 17.46118318453005, 392.7508766135783, 82.89134274419023, 506.58550290433385, 1479.1745497893928, 297.85060332368556, 175.54943971760423, 203.66337878596408, 139.01500634648855, 97.60028043773181, 226.81774792248999, 1841.4709718121371, 378.9531883694191, 321.9614655645952, 747.0748248761406, 723.9297440065925, 4457.287052006795, 565.8057508267046, 313.3343210855717, 1484.8442228526026, 1126.8412814214782, 6188.264538445969, 1178.108176322586, 1874.0638775082393, 361.3445672277006, 303.2424179282332, 611.9323388857645, 4746.0089691466, 3277.157683817186, 2506.4284785146147, 512.5489983771673, 1541.0418631917191, 669.973049861402, 1655.074560385583, 808.5979746930543, 189.56014047425003, 90.6969424013383, 83.21913527259402, 43.10895495337386, 122.05004204815438, 109.28531278499727, 35.42011182762061, 146.61040012981078, 24.39892781279403, 23.66681803548603, 22.872758530904218, 20.841559174962693, 20.043542999702762, 19.974106107291988, 281.49276752076497, 16.705693059265748, 15.332469524227637, 15.103727360950627, 14.605859236452405, 14.316745832041521, 103.9166473859423, 159.05079667490793, 46.44276708546219, 12.346773346975715, 11.920972779756397, 10.754026819663276, 10.328731523811696, 10.325213095913577, 9.893005710789513, 9.89275099336923, 280.2374138886345, 89.21363235745174, 124.32235156097586, 277.0242265387136, 582.8521726992914, 70.21350542403782, 209.71729127350443, 128.14739815104247, 148.82843445313281, 1010.9793248337098, 393.7529185372921, 262.6227043234983, 45.031295988805084, 204.08780628039307, 330.5812444856209, 492.9237398813395, 1963.6885672578671, 276.6509578391163, 100.22460914285898, 972.9240390129744, 255.18411042215746, 1308.4397071966168, 711.7503164192868, 1060.6844722699673, 4746.0089691466, 6188.264538445969, 793.2094776240347, 1541.0418631917191, 1359.8940929357175, 1244.807521793236, 4457.287052006795, 631.81315571794, 1841.4709718121371, 1701.7876858939408, 540.480542567457, 659.0996211840032, 1607.740361843486, 802.7369774712427, 625.2544937486236, 170.1505239723802, 77.76097326291708, 44.34569608630139, 974.3830982377966, 39.50965020903198, 54.302262811580405, 25.95145805069349, 25.44455800891912, 24.561687220122764, 21.412611853196996, 18.110373448902827, 16.872249060015072, 16.05966067375324, 15.328790356431668, 20.236224464402234, 14.676775955877876, 13.498837865084365, 11.960850384835842, 39.97742202672917, 12.025231449442972, 49.46938421062854, 10.718521552013707, 10.784151314182003, 26.46557953868485, 9.985237637044493, 9.899053798522903, 9.54317092544307, 9.600469226949983, 9.534249559574128, 9.250834546584343, 144.7047114884758, 208.7043199021559, 143.24575950970547, 100.62858496014586, 194.70298232085332, 136.01216119404918, 2506.4284785146147, 25.644929963173514, 638.9722049125874, 146.047888203666, 80.94879195934773, 3277.157683817186, 92.19709358557428, 50.38336085556791, 108.99457797846652, 163.2920979572039, 102.70461444365534, 631.3650446943973, 1536.431916712499, 4457.287052006795, 188.42155626454988, 374.19728358632915, 540.480542567457, 611.9323388857645, 775.436173179855, 543.7760814734559, 1541.0418631917191, 808.5979746930543, 314.50231435768285, 4746.0089691466, 355.61804880766715, 1308.4397071966168, 1478.3658571467586, 1655.074560385583, 1244.807521793236, 1060.6844722699673, 311.4441499739818, 747.0748248761406, 1607.740361843486, 793.2094776240347, 1126.8412814214782], \"Category\": [\"Default\", \"Default\", \"Default\", \"Default\", \"Default\", \"Default\", \"Default\", \"Default\", \"Default\", \"Default\", \"Default\", \"Default\", \"Default\", \"Default\", \"Default\", \"Default\", \"Default\", \"Default\", \"Default\", \"Default\", \"Default\", \"Default\", \"Default\", \"Default\", \"Default\", \"Default\", \"Default\", \"Default\", \"Default\", \"Default\", \"Topic1\", \"Topic1\", \"Topic1\", \"Topic1\", \"Topic1\", \"Topic1\", \"Topic1\", \"Topic1\", \"Topic1\", \"Topic1\", \"Topic1\", \"Topic1\", \"Topic1\", \"Topic1\", \"Topic1\", \"Topic1\", \"Topic1\", \"Topic1\", \"Topic1\", \"Topic1\", \"Topic1\", \"Topic1\", \"Topic1\", \"Topic1\", \"Topic1\", \"Topic1\", \"Topic1\", \"Topic1\", \"Topic1\", \"Topic1\", \"Topic1\", \"Topic1\", \"Topic1\", \"Topic1\", \"Topic1\", \"Topic1\", \"Topic1\", \"Topic1\", \"Topic1\", \"Topic1\", \"Topic1\", \"Topic1\", \"Topic1\", \"Topic1\", \"Topic1\", \"Topic1\", \"Topic1\", \"Topic1\", \"Topic1\", \"Topic1\", \"Topic1\", \"Topic1\", \"Topic1\", \"Topic1\", \"Topic1\", \"Topic1\", \"Topic1\", \"Topic1\", \"Topic1\", \"Topic1\", \"Topic1\", \"Topic1\", \"Topic1\", \"Topic1\", \"Topic1\", \"Topic1\", \"Topic1\", \"Topic1\", \"Topic1\", \"Topic1\", \"Topic2\", \"Topic2\", \"Topic2\", \"Topic2\", \"Topic2\", \"Topic2\", \"Topic2\", \"Topic2\", \"Topic2\", \"Topic2\", \"Topic2\", \"Topic2\", \"Topic2\", \"Topic2\", \"Topic2\", \"Topic2\", \"Topic2\", \"Topic2\", \"Topic2\", \"Topic2\", \"Topic2\", \"Topic2\", \"Topic2\", \"Topic2\", \"Topic2\", \"Topic2\", \"Topic2\", \"Topic2\", \"Topic2\", \"Topic2\", \"Topic2\", \"Topic2\", \"Topic2\", \"Topic2\", \"Topic2\", \"Topic2\", \"Topic2\", \"Topic2\", \"Topic2\", \"Topic2\", \"Topic2\", \"Topic2\", \"Topic2\", \"Topic2\", \"Topic2\", \"Topic2\", \"Topic2\", \"Topic2\", \"Topic2\", \"Topic2\", \"Topic2\", \"Topic2\", \"Topic2\", \"Topic2\", \"Topic2\", \"Topic2\", \"Topic2\", \"Topic2\", \"Topic2\", \"Topic2\", \"Topic2\", \"Topic2\", \"Topic2\", \"Topic2\", \"Topic2\", \"Topic2\", \"Topic2\", \"Topic2\", \"Topic2\", \"Topic2\", \"Topic2\", \"Topic3\", \"Topic3\", \"Topic3\", \"Topic3\", \"Topic3\", \"Topic3\", \"Topic3\", \"Topic3\", \"Topic3\", \"Topic3\", \"Topic3\", \"Topic3\", \"Topic3\", \"Topic3\", \"Topic3\", \"Topic3\", \"Topic3\", \"Topic3\", \"Topic3\", \"Topic3\", \"Topic3\", \"Topic3\", \"Topic3\", \"Topic3\", \"Topic3\", \"Topic3\", \"Topic3\", \"Topic3\", \"Topic3\", \"Topic3\", \"Topic3\", \"Topic3\", \"Topic3\", \"Topic3\", \"Topic3\", \"Topic3\", \"Topic3\", \"Topic3\", \"Topic3\", \"Topic3\", \"Topic3\", \"Topic3\", \"Topic3\", \"Topic3\", \"Topic3\", \"Topic3\", \"Topic3\", \"Topic3\", \"Topic3\", \"Topic3\", \"Topic3\", \"Topic3\", \"Topic3\", \"Topic3\", \"Topic3\", \"Topic3\", \"Topic3\", \"Topic3\", \"Topic3\", \"Topic3\", \"Topic3\", \"Topic3\", \"Topic3\", \"Topic3\", \"Topic4\", \"Topic4\", \"Topic4\", \"Topic4\", \"Topic4\", \"Topic4\", \"Topic4\", \"Topic4\", \"Topic4\", \"Topic4\", \"Topic4\", \"Topic4\", \"Topic4\", \"Topic4\", \"Topic4\", \"Topic4\", \"Topic4\", \"Topic4\", \"Topic4\", \"Topic4\", \"Topic4\", \"Topic4\", \"Topic4\", \"Topic4\", \"Topic4\", \"Topic4\", \"Topic4\", \"Topic4\", \"Topic4\", \"Topic4\", \"Topic4\", \"Topic4\", \"Topic4\", \"Topic4\", \"Topic4\", \"Topic4\", \"Topic4\", \"Topic4\", \"Topic4\", \"Topic4\", \"Topic4\", \"Topic4\", \"Topic4\", \"Topic4\", \"Topic4\", \"Topic4\", \"Topic4\", \"Topic4\", \"Topic4\", \"Topic4\", \"Topic4\", \"Topic4\", \"Topic4\", \"Topic4\", \"Topic4\", \"Topic4\", \"Topic4\", \"Topic4\", \"Topic4\", \"Topic4\", \"Topic4\", \"Topic4\", \"Topic4\", \"Topic4\", \"Topic4\", \"Topic4\", \"Topic4\", \"Topic4\", \"Topic4\", \"Topic5\", \"Topic5\", \"Topic5\", \"Topic5\", \"Topic5\", \"Topic5\", \"Topic5\", \"Topic5\", \"Topic5\", \"Topic5\", \"Topic5\", \"Topic5\", \"Topic5\", \"Topic5\", \"Topic5\", \"Topic5\", \"Topic5\", \"Topic5\", \"Topic5\", \"Topic5\", \"Topic5\", \"Topic5\", \"Topic5\", \"Topic5\", \"Topic5\", \"Topic5\", \"Topic5\", \"Topic5\", \"Topic5\", \"Topic5\", \"Topic5\", \"Topic5\", \"Topic5\", \"Topic5\", \"Topic5\", \"Topic5\", \"Topic5\", \"Topic5\", \"Topic5\", \"Topic5\", \"Topic5\", \"Topic5\", \"Topic5\", \"Topic5\", \"Topic5\", \"Topic5\", \"Topic5\", \"Topic5\", \"Topic5\", \"Topic5\", \"Topic5\", \"Topic5\", \"Topic5\", \"Topic5\", \"Topic5\", \"Topic5\", \"Topic5\", \"Topic5\", \"Topic5\", \"Topic5\", \"Topic5\", \"Topic5\", \"Topic5\", \"Topic5\", \"Topic5\", \"Topic5\", \"Topic5\", \"Topic5\", \"Topic5\", \"Topic5\", \"Topic5\"], \"logprob\": [30.0, 29.0, 28.0, 27.0, 26.0, 25.0, 24.0, 23.0, 22.0, 21.0, 20.0, 19.0, 18.0, 17.0, 16.0, 15.0, 14.0, 13.0, 12.0, 11.0, 10.0, 9.0, 8.0, 7.0, 6.0, 5.0, 4.0, 3.0, 2.0, 1.0, -5.116799831390381, -5.22130012512207, -5.676300048828125, -4.636000156402588, -6.084799766540527, -4.2519001960754395, -6.286099910736084, -6.834099769592285, -6.860899925231934, -7.128499984741211, -6.877799987792969, -7.497399806976318, -7.5131001472473145, -7.535099983215332, -7.547100067138672, -5.442500114440918, -7.570199966430664, -7.585599899291992, -7.626500129699707, -7.675600051879883, -7.742800235748291, -7.83489990234375, -7.856299877166748, -7.857399940490723, -7.928100109100342, -7.984399795532227, -8.078300476074219, -7.1315999031066895, -8.105299949645996, -8.076700210571289, -6.741000175476074, -5.60830020904541, -5.621500015258789, -5.430300235748291, -5.776500225067139, -5.3171000480651855, -6.438899993896484, -5.837399959564209, -3.602299928665161, -4.350599765777588, -5.860599994659424, -6.178400039672852, -6.3684000968933105, -5.156199932098389, -3.7797999382019043, -6.656700134277344, -5.633399963378906, -4.914400100708008, -4.812900066375732, -5.046199798583984, -4.05620002746582, -5.167300224304199, -3.0192999839782715, -5.123600006103516, -4.326499938964844, -4.768199920654297, -4.527699947357178, -4.144400119781494, -3.558300018310547, -4.249000072479248, -3.839200019836426, -4.599400043487549, -4.313399791717529, -4.464099884033203, -5.072800159454346, -5.055200099945068, -4.920000076293945, -5.14109992980957, -4.9664998054504395, -5.0746002197265625, -4.849100112915039, -4.955399990081787, -5.266200065612793, -5.318299770355225, -5.473700046539307, -6.0304999351501465, -5.924499988555908, -6.2519001960754395, -6.26800012588501, -6.432600021362305, -6.495299816131592, -6.171199798583984, -6.604499816894531, -6.633299827575684, -6.681700229644775, -6.887400150299072, -6.910099983215332, -6.910200119018555, -6.9085001945495605, -6.970900058746338, -7.082699775695801, -7.104000091552734, -7.106200218200684, -7.136899948120117, -7.171199798583984, -7.204999923706055, -7.241300106048584, -7.183899879455566, -7.274099826812744, -7.326600074768066, -4.704999923706055, -5.655099868774414, -5.3155999183654785, -5.9583001136779785, -6.322800159454346, -6.497499942779541, -6.7245001792907715, -5.235599994659424, -4.2108001708984375, -5.686200141906738, -6.045599937438965, -5.495999813079834, -5.770100116729736, -5.7729997634887695, -6.215099811553955, -5.350200176239014, -4.958399772644043, -4.828700065612793, -6.127299785614014, -4.2403998374938965, -5.6118998527526855, -4.149199962615967, -4.828000068664551, -4.293099880218506, -4.4430999755859375, -4.428299903869629, -5.308499813079834, -5.514900207519531, -5.245699882507324, -5.013599872589111, -4.937099933624268, -5.015200138092041, -5.22160005569458, -4.415200233459473, -5.226500034332275, -4.771900177001953, -5.191500186920166, -5.417200088500977, -5.3480000495910645, -5.3460001945495605, -5.39139986038208, -3.046600103378296, -4.1433000564575195, -4.879899978637695, -5.142199993133545, -5.44350004196167, -5.468999862670898, -5.485199928283691, -5.666299819946289, -5.727700233459473, -5.8867998123168945, -5.97730016708374, -6.0117998123168945, -6.162300109863281, -6.448299884796143, -5.619900226593018, -6.5960001945495605, -6.783199787139893, -7.033199787139893, -7.135799884796143, -7.054699897766113, -7.301799774169922, -7.366399765014648, -7.402900218963623, -7.458199977874756, -7.503900051116943, -7.553199768066406, -7.586599826812744, -5.188899993896484, -7.8566999435424805, -7.797900199890137, -4.687600135803223, -6.242800235748291, -4.462900161743164, -3.424099922180176, -4.99560022354126, -5.510499954223633, -5.374199867248535, -5.745299816131592, -6.102399826049805, -5.309500217437744, -3.401099920272827, -4.859300136566162, -5.032400131225586, -4.296000003814697, -4.380199909210205, -2.9611001014709473, -4.671899795532227, -5.167200088500977, -4.00439977645874, -4.253699779510498, -3.080699920654297, -4.263700008392334, -4.036099910736084, -5.09689998626709, -5.21150016784668, -4.855400085449219, -3.809299945831299, -4.206600189208984, -4.341000080108643, -5.064700126647949, -4.704400062561035, -5.030200004577637, -4.831600189208984, -5.116099834442139, -5.18720006942749, -5.9278998374938965, -6.014100074768066, -6.680799961090088, -5.640900135040283, -5.754000186920166, -6.88129997253418, -5.467800140380859, -7.2642998695373535, -7.29610013961792, -7.331200122833252, -7.427700042724609, -7.468299865722656, -7.471799850463867, -4.8333001136779785, -7.65880012512207, -7.7484002113342285, -7.765699863433838, -7.800099849700928, -7.821000099182129, -5.839099884033203, -5.417099952697754, -6.653200149536133, -7.979400157928467, -8.015999794006348, -8.127400398254395, -8.170000076293945, -8.17080020904541, -8.216899871826172, -8.217000007629395, -4.884500026702881, -6.018899917602539, -5.698200225830078, -4.908999919891357, -4.190299987792969, -6.277900218963623, -5.209000110626221, -5.6915998458862305, -5.547900199890137, -3.698899984359741, -4.619699954986572, -5.031799793243408, -6.720600128173828, -5.3354997634887695, -4.921899795532227, -4.571000099182129, -3.3475000858306885, -5.099400043487549, -6.021299839019775, -4.056000232696533, -5.210100173950195, -3.8754000663757324, -4.38539981842041, -4.153200149536133, -3.024399995803833, -2.9593000411987305, -4.460700035095215, -4.08620023727417, -4.258699893951416, -4.316699981689453, -3.6389999389648438, -4.7729997634887695, -4.334099769592285, -4.488900184631348, -5.026400089263916, -4.978600025177002, -4.736800193786621, -4.954800128936768, -5.0980000495910645, -4.979800224304199, -5.7683000564575195, -6.337900161743164, -3.2500998973846436, -6.4552998542785645, -6.138999938964844, -6.886499881744385, -6.906599998474121, -6.943299770355225, -7.089200019836426, -7.259900093078613, -7.333700180053711, -7.386099815368652, -7.434800148010254, -7.157800197601318, -7.480400085449219, -7.57289981842041, -7.698200225830078, -6.491499900817871, -7.6930999755859375, -6.283299922943115, -7.815700054168701, -7.809800148010254, -6.915200233459473, -7.892300128936768, -7.903600215911865, -7.94189977645874, -7.937099933624268, -7.944200038909912, -7.975500106811523, -5.2484002113342285, -4.892000198364258, -5.28410005569458, -5.639599800109863, -5.007199764251709, -5.361199855804443, -2.713900089263916, -7.003399848937988, -4.045499801635742, -5.411499977111816, -5.957699775695801, -2.7613000869750977, -5.898600101470947, -6.42140007019043, -5.782199859619141, -5.44890022277832, -5.84119987487793, -4.376999855041504, -3.8194000720977783, -3.020699977874756, -5.427700042724609, -4.9274001121521, -4.695799827575684, -4.636499881744385, -4.500100135803223, -4.767499923706055, -4.203800201416016, -4.596099853515625, -5.164400100708008, -3.6401000022888184, -5.144199848175049, -4.4542999267578125, -4.46120023727417, -4.4222002029418945, -4.585700035095215, -4.894499778747559, -5.2870001792907715, -5.070799827575684, -4.944300174713135, -5.125699996948242, -5.253499984741211], \"loglift\": [30.0, 29.0, 28.0, 27.0, 26.0, 25.0, 24.0, 23.0, 22.0, 21.0, 20.0, 19.0, 18.0, 17.0, 16.0, 15.0, 14.0, 13.0, 12.0, 11.0, 10.0, 9.0, 8.0, 7.0, 6.0, 5.0, 4.0, 3.0, 2.0, 1.0, 1.4308, 1.4299, 1.4285, 1.4285, 1.4259, 1.4241, 1.4239, 1.4171, 1.4167, 1.4114, 1.4072, 1.4016, 1.4009, 1.4, 1.4, 1.3999, 1.3988, 1.3987, 1.397, 1.3953, 1.3926, 1.3891, 1.3882, 1.3875, 1.3848, 1.3795, 1.3768, 1.376, 1.3755, 1.3734, 1.3682, 1.3561, 1.3524, 1.3448, 1.3514, 1.3214, 1.3495, 1.3211, 1.21, 1.2043, 1.2965, 1.275, 1.2928, 1.1522, 0.994, 1.3059, 1.1857, 1.0729, 1.0235, 1.0262, 0.7517, 1.0036, 0.3613, 0.9381, 0.7129, 0.8371, 0.6875, 0.4308, 0.0877, 0.4226, 0.1771, 0.577, 0.215, 0.2644, 0.6001, 0.3606, -0.2206, -0.2453, -1.2578, -0.7902, 1.5065, 1.5063, 1.5054, 1.5052, 1.5046, 1.5012, 1.501, 1.4992, 1.4991, 1.4971, 1.4965, 1.4954, 1.495, 1.4947, 1.4938, 1.4904, 1.4901, 1.49, 1.49, 1.4879, 1.4865, 1.4859, 1.4858, 1.4853, 1.4845, 1.4833, 1.4827, 1.4824, 1.48, 1.4799, 1.4494, 1.4617, 1.4517, 1.4544, 1.4601, 1.4315, 1.4418, 1.2691, 1.1156, 1.3042, 1.3348, 1.21, 1.2496, 1.2486, 1.3441, 1.147, 1.0235, 0.9369, 1.3209, 0.6555, 1.1318, 0.5224, 0.777, 0.4064, 0.2853, 0.1469, 0.752, 0.9132, 0.6826, 0.4094, 0.2393, 0.1999, 0.3986, -1.0345, 0.2311, -1.1259, -0.2072, 0.3613, -0.8195, -1.3296, -0.3075, 1.5154, 1.5139, 1.5132, 1.5124, 1.5112, 1.5111, 1.5107, 1.51, 1.5096, 1.5086, 1.5079, 1.5075, 1.5063, 1.5032, 1.5024, 1.5012, 1.4972, 1.4933, 1.4908, 1.4895, 1.4863, 1.4844, 1.4833, 1.4811, 1.4797, 1.4772, 1.4768, 1.4679, 1.465, 1.4532, 1.4503, 1.4507, 1.4204, 1.3877, 1.4188, 1.4327, 1.4204, 1.4312, 1.4278, 1.3774, 1.1916, 1.3143, 1.3042, 1.1989, 1.1461, 0.7476, 1.1009, 1.1966, 0.8035, 0.8302, 0.2999, 0.7757, 0.5391, 1.1243, 1.185, 0.839, -0.1633, -0.1903, -0.0566, 0.8069, 0.0665, 0.5736, -0.1322, 0.2997, 1.6791, 1.6756, 1.6754, 1.6665, 1.6657, 1.6631, 1.6625, 1.6555, 1.6522, 1.6509, 1.6499, 1.6464, 1.6448, 1.6448, 1.6376, 1.6365, 1.6326, 1.6304, 1.6295, 1.6286, 1.6284, 1.6248, 1.6196, 1.6183, 1.6168, 1.6083, 1.6061, 1.6056, 1.6023, 1.6022, 1.5909, 1.6011, 1.5899, 1.5779, 1.5528, 1.5816, 1.5563, 1.5662, 1.5604, 1.4934, 1.5156, 1.5085, 1.5831, 1.457, 1.3883, 1.3397, 1.181, 1.3889, 1.4824, 1.1748, 1.359, 1.059, 1.1579, 0.9911, 0.6216, 0.4213, 0.9742, 0.6847, 0.6372, 0.6676, 0.0698, 0.8894, 0.2586, 0.1827, 0.7922, 0.6415, -0.0083, 0.4682, 0.5749, 1.9945, 1.9891, 1.9811, 1.9792, 1.9792, 1.9775, 1.9684, 1.9679, 1.9665, 1.9579, 1.9546, 1.9517, 1.9486, 1.9465, 1.9457, 1.9444, 1.9355, 1.9312, 1.9312, 1.931, 1.9264, 1.9234, 1.9231, 1.92, 1.9177, 1.915, 1.9133, 1.9121, 1.9119, 1.9108, 1.8879, 1.8781, 1.8623, 1.86, 1.8324, 1.8371, 1.5705, 1.8633, 1.6057, 1.7156, 1.7595, 1.255, 1.6885, 1.7699, 1.6375, 1.5666, 1.638, 1.2861, 0.9545, 0.688, 1.4446, 1.2588, 1.1228, 1.0579, 0.9575, 1.045, 0.567, 0.8196, 1.1957, 0.0059, 1.093, 0.4801, 0.3512, 0.2773, 0.3986, 0.2499, 1.0828, 0.4241, -0.2158, 0.3092, -0.1696]}, \"token.table\": {\"Topic\": [1, 4, 1, 4, 5, 4, 1, 3, 4, 5, 4, 2, 3, 4, 5, 1, 2, 3, 4, 1, 2, 3, 4, 4, 1, 3, 4, 1, 2, 3, 4, 3, 4, 5, 2, 1, 2, 3, 4, 5, 1, 2, 2, 4, 1, 2, 3, 4, 5, 5, 5, 2, 2, 1, 2, 5, 1, 1, 2, 4, 3, 3, 2, 4, 1, 4, 4, 1, 2, 1, 4, 4, 4, 4, 1, 1, 2, 4, 5, 5, 5, 3, 1, 3, 2, 2, 1, 2, 4, 2, 2, 5, 5, 1, 5, 2, 5, 1, 2, 3, 3, 1, 2, 3, 5, 1, 2, 3, 2, 4, 1, 2, 3, 4, 2, 5, 3, 1, 2, 2, 1, 2, 1, 2, 3, 4, 5, 3, 5, 1, 2, 3, 5, 2, 1, 1, 2, 3, 2, 1, 2, 3, 1, 2, 3, 4, 1, 2, 5, 3, 2, 3, 5, 2, 5, 1, 2, 3, 4, 5, 1, 2, 3, 4, 5, 1, 1, 2, 1, 2, 3, 4, 5, 1, 2, 4, 2, 3, 2, 5, 1, 5, 4, 1, 3, 4, 5, 4, 1, 2, 3, 1, 2, 3, 5, 4, 2, 1, 2, 3, 4, 5, 2, 3, 5, 3, 5, 1, 5, 1, 2, 3, 4, 5, 1, 2, 3, 1, 1, 2, 3, 5, 4, 3, 4, 1, 5, 1, 2, 1, 2, 5, 1, 2, 4, 2, 4, 2, 4, 5, 1, 2, 3, 4, 5, 1, 2, 3, 4, 5, 4, 1, 3, 4, 5, 2, 4, 1, 5, 3, 4, 1, 3, 5, 1, 4, 4, 4, 4, 5, 3, 5, 1, 2, 3, 1, 5, 3, 3, 5, 5, 3, 5, 1, 2, 3, 4, 5, 3, 1, 2, 3, 5, 2, 3, 4, 5, 1, 4, 4, 2, 3, 4, 5, 4, 5, 1, 2, 3, 2, 2, 4, 5, 2, 4, 1, 2, 2, 3, 4, 5, 1, 2, 3, 3, 1, 2, 3, 4, 5, 5, 1, 3, 5, 3, 1, 2, 4, 5, 1, 2, 3, 5, 1, 2, 3, 4, 5, 2, 3, 1, 2, 3, 4, 5, 5, 1, 2, 3, 4, 1, 2, 3, 4, 5, 2, 1, 3, 4, 5, 5, 3, 1, 2, 1, 2, 4, 5, 1, 2, 4, 1, 3, 4, 5, 5, 3, 4, 5, 1, 3, 1, 2, 1, 2, 3, 4, 5, 1, 1, 2, 3, 4, 5, 1, 2, 3, 4, 5, 3, 4, 5, 1, 2, 1, 3, 4, 5, 2, 4, 5, 2, 5, 2, 5, 3, 5, 3, 1, 2, 3, 4, 5, 5, 1, 2, 3, 5, 1, 1, 5, 2, 4, 5, 2, 1, 2, 5, 3, 4, 5, 2, 1, 2, 3, 4, 5, 1, 2, 4, 5, 1, 2, 3, 4, 1, 2, 3, 4, 5, 3, 3, 3, 5, 1, 2, 3, 4, 5, 2, 1, 2, 4, 5, 1, 2, 5, 1, 2, 4, 5, 1, 2, 4, 5, 2, 3, 5, 2, 2, 4, 5, 1, 2, 3, 4, 5, 5, 1, 2, 3, 4, 3, 1, 2, 4, 5, 1, 2, 3, 4, 5, 3, 3, 3, 1, 2, 4, 5, 1, 2, 4, 5, 1, 2, 3, 4, 5, 4, 1, 1, 1, 2, 3, 5, 1, 3, 5, 1, 2, 4, 5, 2, 5, 4, 5, 1, 2, 3, 4, 5, 1, 1, 3, 4, 5, 1, 2, 4, 2, 2, 1, 1, 2, 3, 4, 1, 2, 3, 4, 5, 1, 4, 1, 1, 1, 2, 1, 2, 3, 4, 5, 2, 1, 4, 5, 5, 5, 4, 4, 5, 5, 1, 2, 3, 4, 5, 2, 5, 1, 5, 1, 2, 3, 4, 5, 1, 2, 3, 5, 1, 2, 4, 3, 1, 2, 4, 1, 2, 3, 4, 5, 1, 2, 3, 2, 1, 2, 3, 4, 5, 2, 3, 4, 1, 3, 1, 1, 1, 1, 4, 5, 1, 2, 3, 4, 5, 2, 3, 4, 5, 3, 3], \"Freq\": [0.04306375622106403, 0.9258707587528766, 0.04021802947917753, 0.9089274662294122, 0.04021802947917753, 0.988139172748376, 0.0868560188709332, 0.9080401972870288, 0.0019740004288848452, 0.0019740004288848452, 0.9585194389015924, 0.06597120902339255, 0.8180429918900677, 0.09763738935462099, 0.018471938526549915, 0.04037750287042288, 0.04658942638894948, 0.8106560191677209, 0.10560269981495216, 0.1253122840123022, 0.049465375268014034, 0.7188967872284706, 0.1055261339050966, 0.9298842347794252, 0.017777646007053113, 0.13714184062583828, 0.8431683534773762, 0.005147102714066365, 0.006862803618755153, 0.11152055880477123, 0.8767231622959707, 0.9118826257551716, 0.030737616598488934, 0.05122936099748156, 0.9960652586783505, 0.36373515047198285, 0.37254941098422795, 0.03819512888639561, 0.22270698227606056, 0.0023504694699320377, 0.1476659659277031, 0.8438055195868749, 0.01830072082910816, 0.9790885643572866, 0.03957842156043762, 0.949882117450503, 0.23005695532579526, 0.09390079809216133, 0.6745207329620255, 0.9386885393591872, 0.9771315701934927, 0.9805373554207173, 0.9970940381594349, 0.9152998171338641, 0.013265214741070494, 0.06632607370535247, 0.950194872116532, 0.14144700735944452, 0.032641617082948736, 0.8259318261897635, 0.9594047576864416, 0.9643809052668961, 0.05658569581638476, 0.9430949302730792, 0.027283194073942554, 0.9685533896249606, 0.9596211028216318, 0.4458492237721688, 0.551355528634285, 0.00527537064225715, 0.9917696807443442, 0.909733630314639, 0.9836497810127195, 0.9681730982111556, 0.9666680662708911, 0.16278931220786688, 0.08330532878242954, 0.5349883499789053, 0.21858095441995273, 0.9389103206194965, 0.9825283658390416, 0.9163182031201297, 0.9149706030497968, 0.08186579079919235, 0.992996058172594, 0.9873007431293827, 0.7800245172065433, 0.21639389832181524, 0.9479362007147021, 0.9916812125443805, 0.8379734993995671, 0.15877392620202324, 0.9340172438708452, 0.9602874178329156, 0.9374541792952813, 0.9783110782904443, 0.8647868427128896, 0.2275330909778924, 0.7686928749253121, 0.9925077062155641, 0.9945949272960752, 0.6500051985003149, 0.11315879973892122, 0.20000159953855842, 0.03421079992106921, 0.01526735105555523, 0.931308414388869, 0.04580205316666569, 0.9805074863845296, 0.9718247702548689, 0.36658302219315875, 0.25612787576814583, 0.37672141727564784, 0.0005335997411836372, 0.9291738622944179, 0.05807336639340112, 0.9884705124527452, 0.9747069951266965, 0.9846523710030792, 0.9854020048762919, 0.9683233264960979, 0.030903935952003123, 0.17751489492562866, 0.32923702734069593, 0.13048103387695784, 0.351995347202956, 0.010620549269054707, 0.3490677179917104, 0.6491434755635316, 0.7995314517620532, 0.004058535288132249, 0.004058535288132249, 0.19210400363825983, 0.9765892449643512, 0.9947881046281237, 0.8842357442477933, 0.11052946803097416, 0.993536394861371, 0.9981137522731998, 0.912986474252738, 0.9865305349387444, 0.011744411130223148, 0.11042457305701125, 0.0038077438985176294, 0.04950067068072918, 0.8377036576738784, 0.16983194828871373, 0.2547479224330706, 0.5731828254744088, 0.9542878457879115, 0.3092934275487757, 0.6610042394470977, 0.030045647247595352, 0.11698218729035498, 0.8578693734626032, 0.07545393987569325, 0.565027177673796, 0.19126696387094336, 0.11054879563182964, 0.05790651199762505, 0.9223120468531792, 0.07636978731905306, 0.9982612103613028, 0.0015745444958380171, 0.9871006144996071, 0.9475935517972304, 0.9530810383634004, 0.02723088681038287, 0.0351185936505419, 0.31606734285487714, 0.4916603111075866, 0.13462127566041063, 0.023412395767027933, 0.2156526348224195, 0.770187981508641, 0.006161503852069128, 0.06110743840201085, 0.9369807221641663, 0.9893081896104119, 0.9147433083717934, 0.018415438845888053, 0.9760182588320668, 0.9783159833644356, 0.009369878045563305, 0.7281733795409197, 0.05488071426687078, 0.20747587100890172, 0.9685030136528332, 0.04720130482001183, 0.8307429648322082, 0.12272339253203075, 0.19454051079274373, 0.6752365403678373, 0.11197389865396297, 0.019227841183003743, 0.9742755315090961, 0.9788901427611769, 0.5501010457985563, 0.05530907253952877, 0.3482976730191947, 0.0014948397983656425, 0.044845193950969274, 0.11022065173023059, 0.868538735634217, 0.017635304276836895, 0.9540291607680995, 0.04278157671605828, 0.8947291150659007, 0.10501515435045783, 0.108121976079925, 0.031119978355107568, 0.20746652236738378, 0.0015958963259029523, 0.6515246750498802, 0.9934001341895501, 0.9839772026071307, 0.9930214673364968, 0.9955290008031045, 0.23124498454086748, 0.004751609271387688, 0.2740094679833567, 0.4894157549529318, 0.9719138484824738, 0.9893140658983094, 0.9618428826708855, 0.21000931068294823, 0.7906232872769816, 0.9808118116611261, 0.021795818036913914, 0.015408084479447083, 0.13353673215520806, 0.8474446463695896, 0.2860483044171146, 0.006086134136534352, 0.7080202712168298, 0.0481154860725077, 0.9430635270211508, 0.019847822436194016, 0.17863040192574614, 0.7939128974477606, 0.0933820378161599, 0.24690843897154144, 0.1345334443114168, 0.45108272504416225, 0.07122358816486772, 0.1023891952043734, 0.6143351712262404, 0.13288810441418675, 0.019606441634880012, 0.13070961089920008, 0.926923511357586, 0.21276070042425949, 0.08736550500513071, 0.6002524108587804, 0.09969945865291387, 0.9787656465853658, 0.9227434877361396, 0.9650065033325954, 0.9932381990632779, 0.9064947224786406, 0.09064947224786406, 0.5057769619477115, 0.4902871215684873, 0.003367356604179171, 0.06725429557626166, 0.9191420395422426, 0.9512315543904931, 0.9923157012476308, 0.019499517216957186, 0.9801073127470585, 0.9763191800967765, 0.9483027391954412, 0.9182505729655801, 0.006852616216161046, 0.06852616216161046, 0.9812268253970926, 0.9630458658685987, 0.9938651217836095, 0.7276572806007202, 0.2712757405748299, 0.9272866921710583, 0.5933332144064416, 0.4049288287892303, 0.26021864013081936, 0.07163913979310006, 0.1864724668143928, 0.3453427944732088, 0.13632506895922278, 0.9733110655995557, 0.1119917008953664, 0.6859491679841192, 0.10265905915408588, 0.10265905915408588, 0.07770862536602419, 0.09621067902460137, 0.4088953858545558, 0.4162962073179867, 0.10107419249878152, 0.8988383547213071, 0.9097570540320271, 0.004899851775691662, 0.09799703551383325, 0.7937759876620494, 0.10289688728952491, 0.23964742270831038, 0.7531776142261183, 0.6965120384125161, 0.23436096889980887, 0.06789897229807547, 0.9777574794165058, 0.04272682273705338, 0.897263277478121, 0.05696909698273784, 0.016386721105846956, 0.9832032663508175, 0.993709870152592, 0.004731951762631391, 0.38530182702107224, 0.10595800243079485, 0.10916885098930379, 0.4013560698136169, 0.9578530695623093, 0.9953075199653733, 0.9995494734540794, 0.9494254578027945, 0.18478633856168467, 0.005656724649847489, 0.13576139159633976, 0.4996773440698616, 0.17347288926198967, 0.9902139436919835, 0.005534883270404073, 0.6752557589892969, 0.3182557880482342, 0.9938189074623749, 0.25378093061038104, 0.21884007784518364, 0.1416024033115894, 0.38434938041717126, 0.11009721972014769, 0.18349536620024615, 0.009174768310012307, 0.6972823915609354, 0.19092795428284598, 0.33170711044709633, 0.19213635905678805, 0.10573541771993053, 0.17884390654342536, 0.07405321270698621, 0.9228169583485974, 0.1748368031465968, 0.48117479156584764, 0.22414974762384207, 0.01195465320660491, 0.10759187885944418, 0.9538879684535325, 0.4350228630413562, 0.2351042678936741, 0.0015993487611814566, 0.32946584480338004, 0.23583038158428254, 0.09254103581155392, 0.38956790881960596, 0.19851544778930114, 0.08358545170075837, 0.9767159502690388, 0.06775421831179375, 0.463734997518138, 0.1987756206100969, 0.26944641123332547, 0.9329644906224295, 0.96451246102678, 0.8643348826038137, 0.12848221227894527, 0.007104978282798919, 0.03552489141399459, 0.9520670898950552, 0.9439652217790289, 0.004768324032451107, 0.11443977677882657, 0.8773716219710037, 0.04312320896960519, 0.06708054728605252, 0.004791467663289466, 0.886421517708551, 0.978550795673599, 0.11169615110956173, 0.006981009444347608, 0.872626180543451, 0.989868127051366, 0.008021621775132626, 0.6087087458989584, 0.3892904770284036, 0.4244432376039472, 0.2813396689622494, 0.06717106283181733, 0.14018308764901008, 0.0876144297806313, 0.9843648459812969, 0.015454857899241146, 0.20512811393538247, 0.06041444451521539, 0.590094574334662, 0.12785382443917676, 0.22921580189270854, 0.3326120603551803, 0.044846569935529934, 0.29648565679600347, 0.09716756819364819, 0.9880889596494914, 0.006814406618272355, 0.901330576911927, 0.9565934960887715, 0.9756354771598542, 0.001629132387054567, 0.7233347798522277, 0.24002550502603953, 0.03475482425716409, 0.09364216654524703, 0.8896005821798468, 0.015607027757541171, 0.945963406189453, 0.052553522566080715, 0.050028238405737786, 0.925522410506149, 0.9207639043008483, 0.07912814802585415, 0.9958041100608608, 0.34133154996433207, 0.04328479800272327, 0.2968100434472453, 0.011130376629271698, 0.307940420076517, 0.9633370098575997, 0.48637299317333904, 0.025464554616405188, 0.4770359898139905, 0.01103464033377558, 0.9718971014090403, 0.8540001774585705, 0.14233336290976176, 0.947530973456571, 0.03644349897909888, 0.01822174948954944, 0.9777269806078693, 0.10749381992152371, 0.8121755282959569, 0.07763442549887824, 0.0414637501314381, 0.055285000175250794, 0.891470627825919, 0.9873355891227613, 0.00671914613410052, 0.0671914613410052, 0.02015743840230156, 0.8802081435671681, 0.02015743840230156, 0.29536251810536496, 0.09726593268642192, 0.6039654249533842, 0.0025462286043565945, 0.9252087899538214, 0.03491353924354043, 0.03491353924354043, 0.9778758500180517, 0.09720378281912265, 0.1799474987725907, 0.15986407257029261, 0.36150167164136526, 0.20163759907107262, 0.9933479967111725, 0.971138337838114, 0.9409909095177125, 0.06031993009728926, 0.1103149784963697, 0.04866837286604546, 0.23490601303344608, 0.3679328988673037, 0.2387994828627297, 0.9771070633647961, 0.2701932244652893, 0.31818807354793943, 0.3555174006122228, 0.05688278409795565, 0.6443500614842091, 0.0039051518877830853, 0.35146366990047767, 0.6653432692373747, 0.014308457402954297, 0.08823548731821816, 0.23132006134776112, 0.7548976633672095, 0.09360731025753398, 0.0634114037228456, 0.0875681289505963, 0.02021452290051246, 0.06064356870153737, 0.929868053423573, 0.975520746840174, 0.13631325209521644, 0.16552323468704855, 0.7010395822039703, 0.08950977264249554, 0.061774350133553264, 0.17397674119245612, 0.4916733990221586, 0.18406234937752605, 0.919667050926912, 0.07864934999701989, 0.12099899999541522, 0.054449549997936844, 0.7441438499718036, 0.9642797626296322, 0.1123453254307826, 0.7414791478431652, 0.07639482129293217, 0.07190100827570087, 0.03497589524091617, 0.419710742890994, 0.04133514892108274, 0.05723328312149918, 0.4483273844517436, 0.9604243045100852, 0.981441942457548, 0.9837084772464929, 0.09013100369748933, 0.18026200739497866, 0.7210480295799147, 0.007837478582390377, 0.16961902017266436, 0.009977589421921434, 0.8181623325975576, 0.9922045177590938, 0.18677925091333317, 0.42576844991661383, 0.022060541446456673, 0.35076260899866113, 0.014707027630971117, 0.985350301122445, 0.961627048593777, 0.9367275568176218, 0.0032683351947728327, 0.09805005584318498, 0.5082261227871755, 0.39056605577535347, 0.05423164446457486, 0.2060802489653845, 0.7375503647182181, 0.1547516148336391, 0.2785529067005504, 0.21278347039625378, 0.3533495205368093, 0.037784927344526716, 0.9068382562686412, 0.9104779043044359, 0.08882711261506691, 0.2191526357868535, 0.46893951098477255, 0.04712959909394699, 0.06126847882213109, 0.20265727610397205, 0.990434130215427, 0.08840636889125691, 0.6906747569629447, 0.10498256305836759, 0.1146520096558488, 0.051768690024546204, 0.9421901584467409, 0.0051768690024546204, 0.9545994713164803, 0.9971593075245815, 0.9692809511388546, 0.1445865227159691, 0.032531967611093046, 0.079522587493783, 0.7446205919872408, 0.3757980446486164, 0.4377427772830037, 0.024777893053754926, 0.11563016758418966, 0.04542613726521737, 0.9323900730505487, 0.05484647488532639, 0.967639777233249, 0.9977325332051691, 0.9735628492669215, 0.9782411608481941, 0.34209914376602146, 0.07853575052918584, 0.2963674207212486, 0.28263174418836634, 0.00016159619450449762, 0.9956552931081475, 0.11925040985871582, 0.009937534154892985, 0.8745030056305827, 0.9430827625653314, 0.9807304285891966, 0.9577573311827169, 0.14704567462512347, 0.8528649128257161, 0.9091778045840041, 0.2183093609152107, 0.16240086604668114, 0.5040638902432507, 0.0008874364264845964, 0.11447929901651292, 0.955554048727115, 0.04066187441391979, 0.8748863363098948, 0.12699962946433957, 0.06564501311992264, 0.6965665281058459, 0.0510572324266065, 0.1312900262398453, 0.05470417759993554, 0.07349063019305133, 0.7863497430656492, 0.1322831343474924, 0.0036745315096525662, 0.8901963090242531, 0.035325250358105284, 0.06358545064458951, 0.921957210047785, 0.003568402898541581, 0.08564166956499794, 0.9099427391281032, 0.28469792729450083, 0.05858735481301625, 0.1815597714257535, 0.00030514247298445965, 0.4751068304368037, 0.6629872142756847, 0.022601836850307436, 0.3126587430959195, 0.9868443085043883, 0.47458597471930997, 0.2701800751600336, 0.11738160568750523, 0.018214387089440467, 0.11940542647522084, 0.06383081768304594, 0.9083616362587307, 0.02946037739217505, 0.794513682877667, 0.2046689988092738, 0.9671794639203305, 0.9972387096520211, 0.9084759531905283, 0.10155071045894755, 0.4195647774224939, 0.47568490688664905, 0.3103734980117255, 0.2942017325842608, 0.1020065203886232, 0.1841093294819053, 0.10884842114639671, 0.004056316410294031, 0.8795446082987558, 0.11154870128308586, 0.004056316410294031, 0.9968119280039863, 0.9969393925307758], \"Term\": [\"128\", \"128\", \"16\", \"16\", \"16\", \"1st\", \"2\", \"2\", \"2\", \"2\", \"2017\", \"3\", \"3\", \"3\", \"3\", \"4\", \"4\", \"4\", \"4\", \"5\", \"5\", \"5\", \"5\", \"6th\", \"7\", \"7\", \"7\", \"8\", \"8\", \"8\", \"8\", \"9\", \"9\", \"9\", \"Alexa\", \"Amazon\", \"Amazon\", \"Amazon\", \"Amazon\", \"Amazon\", \"Apple\", \"Apple\", \"Black\", \"Black\", \"Bluetooth\", \"Bluetooth\", \"Christmas\", \"Christmas\", \"Christmas\", \"Dad\", \"Day\", \"Dot\", \"Echo\", \"Facebook\", \"Facebook\", \"Facebook\", \"Fi\", \"Fire\", \"Fire\", \"Fire\", \"FreeTime\", \"Freetime\", \"Friday\", \"Friday\", \"GB\", \"GB\", \"Geek\", \"Google\", \"Google\", \"HD\", \"HD\", \"HD7\", \"HDX\", \"Hd8\", \"Hulu\", \"Kindle\", \"Kindle\", \"Kindle\", \"Kindle\", \"Mom\", \"Mother\", \"Nabi\", \"Netflix\", \"Netflix\", \"Paperwhite\", \"Play\", \"Prime\", \"Prime\", \"Squad\", \"Tap\", \"Voyage\", \"Voyage\", \"WIFI\", \"Wi\", \"Xbox\", \"activate\", \"active\", \"ad\", \"ad\", \"adult\", \"age\", \"amazon\", \"amazon\", \"amazon\", \"amazon\", \"annoying\", \"annoying\", \"annoying\", \"answer\", \"anymore\", \"app\", \"app\", \"app\", \"app\", \"appear\", \"appear\", \"appropriate\", \"article\", \"automatically\", \"backpack\", \"basic\", \"basic\", \"battery\", \"battery\", \"battery\", \"battery\", \"battery\", \"birthday\", \"birthday\", \"book\", \"book\", \"book\", \"book\", \"brightness\", \"browse\", \"browsing\", \"browsing\", \"bumper\", \"button\", \"buying\", \"cable\", \"cable\", \"card\", \"card\", \"card\", \"card\", \"carry\", \"carry\", \"carry\", \"cartoon\", \"case\", \"case\", \"case\", \"challenge\", \"challenge\", \"charge\", \"charge\", \"charge\", \"charge\", \"charge\", \"check\", \"check\", \"child\", \"child\", \"christmas\", \"chrome\", \"college\", \"college\", \"come\", \"come\", \"come\", \"come\", \"come\", \"compare\", \"compare\", \"compare\", \"control\", \"control\", \"crazy\", \"cute\", \"dad\", \"dad\", \"darn\", \"daughter\", \"daughter\", \"daughter\", \"daughter\", \"def\", \"design\", \"design\", \"design\", \"device\", \"device\", \"device\", \"device\", \"die\", \"dot\", \"download\", \"download\", \"download\", \"download\", \"download\", \"drop\", \"drop\", \"drop\", \"durable\", \"durable\", \"e\", \"e\", \"easy\", \"easy\", \"easy\", \"easy\", \"easy\", \"ebook\", \"echo\", \"educational\", \"email\", \"enjoy\", \"enjoy\", \"enjoy\", \"enjoy\", \"ensure\", \"entertain\", \"entry\", \"everyday\", \"everyday\", \"facebook\", \"facebook\", \"family\", \"family\", \"family\", \"fast\", \"fast\", \"fast\", \"faster\", \"faster\", \"father\", \"father\", \"father\", \"feature\", \"feature\", \"feature\", \"feature\", \"feature\", \"find\", \"find\", \"find\", \"find\", \"find\", \"fingertip\", \"fire\", \"fire\", \"fire\", \"fire\", \"font\", \"fourth\", \"fraction\", \"friend\", \"friendly\", \"friendly\", \"game\", \"game\", \"game\", \"gb\", \"gb\", \"gen\", \"generation\", \"gift\", \"gift\", \"girl\", \"girlfriend\", \"google\", \"google\", \"google\", \"got\", \"grab\", \"grand\", \"granddaughter\", \"granddaughter\", \"grandparent\", \"grandson\", \"grandson\", \"great\", \"great\", \"great\", \"great\", \"great\", \"guarantee\", \"hand\", \"hand\", \"hand\", \"hand\", \"happy\", \"happy\", \"happy\", \"happy\", \"hd\", \"hd\", \"hdx\", \"highly\", \"highly\", \"highly\", \"highly\", \"husband\", \"husband\", \"iPad\", \"iPad\", \"iPad\", \"image\", \"improvement\", \"improvement\", \"improvement\", \"inch\", \"inch\", \"internet\", \"internet\", \"item\", \"item\", \"item\", \"item\", \"junk\", \"keyboard\", \"kid\", \"kiddo\", \"kindle\", \"kindle\", \"kindle\", \"kindle\", \"kindle\", \"law\", \"learn\", \"learn\", \"learn\", \"learning\", \"light\", \"light\", \"light\", \"light\", \"lightweight\", \"lightweight\", \"lightweight\", \"lightweight\", \"like\", \"like\", \"like\", \"like\", \"like\", \"limit\", \"limit\", \"little\", \"little\", \"little\", \"little\", \"little\", \"logic\", \"look\", \"look\", \"look\", \"look\", \"lot\", \"lot\", \"lot\", \"lot\", \"lot\", \"loud\", \"love\", \"love\", \"love\", \"love\", \"lunch\", \"maneuver\", \"medium\", \"medium\", \"memory\", \"memory\", \"memory\", \"mistake\", \"model\", \"model\", \"model\", \"mom\", \"mom\", \"mom\", \"mom\", \"morning\", \"mother\", \"mother\", \"mother\", \"movie\", \"movie\", \"music\", \"music\", \"need\", \"need\", \"need\", \"need\", \"need\", \"netflix\", \"new\", \"new\", \"new\", \"new\", \"new\", \"nice\", \"nice\", \"nice\", \"nice\", \"nice\", \"niece\", \"niece\", \"novice\", \"offline\", \"okay\", \"old\", \"old\", \"old\", \"old\", \"original\", \"original\", \"original\", \"page\", \"page\", \"paper\", \"paper\", \"parent\", \"parent\", \"parental\", \"perfect\", \"perfect\", \"perfect\", \"perfect\", \"perfect\", \"pic\", \"play\", \"play\", \"play\", \"play\", \"player\", \"playing\", \"playing\", \"plug\", \"plug\", \"plug\", \"pocket\", \"portable\", \"portable\", \"portable\", \"present\", \"present\", \"present\", \"press\", \"previous\", \"previous\", \"previous\", \"previous\", \"previous\", \"price\", \"price\", \"price\", \"price\", \"prime\", \"prime\", \"prime\", \"prize\", \"product\", \"product\", \"product\", \"product\", \"product\", \"profile\", \"proof\", \"protect\", \"protect\", \"purchase\", \"purchase\", \"purchase\", \"purchase\", \"purchase\", \"push\", \"quality\", \"quality\", \"quality\", \"quality\", \"read\", \"read\", \"read\", \"reader\", \"reader\", \"reader\", \"reader\", \"reading\", \"reading\", \"reading\", \"reading\", \"ready\", \"ready\", \"ready\", \"realize\", \"receive\", \"receive\", \"receive\", \"recommend\", \"recommend\", \"recommend\", \"recommend\", \"recommend\", \"relative\", \"replace\", \"replace\", \"replace\", \"replace\", \"restriction\", \"return\", \"return\", \"return\", \"return\", \"right\", \"right\", \"right\", \"right\", \"right\", \"rough\", \"rubber\", \"safe\", \"sale\", \"sale\", \"sale\", \"sale\", \"satisfied\", \"satisfied\", \"satisfied\", \"savvy\", \"screen\", \"screen\", \"screen\", \"screen\", \"screen\", \"sd\", \"secure\", \"series\", \"set\", \"set\", \"set\", \"set\", \"sister\", \"sister\", \"sister\", \"size\", \"size\", \"size\", \"size\", \"sleeve\", \"sleeve\", \"slot\", \"slot\", \"small\", \"small\", \"small\", \"small\", \"small\", \"social\", \"son\", \"son\", \"son\", \"son\", \"sound\", \"sound\", \"sound\", \"speak\", \"speaker\", \"speedy\", \"storage\", \"storage\", \"storage\", \"storage\", \"store\", \"store\", \"store\", \"store\", \"store\", \"streaming\", \"streaming\", \"sufficient\", \"surf\", \"surfing\", \"swipe\", \"tablet\", \"tablet\", \"tablet\", \"tablet\", \"tablet\", \"tap\", \"tech\", \"tech\", \"tech\", \"techie\", \"teenage\", \"teenager\", \"thank\", \"thank\", \"thumb\", \"time\", \"time\", \"time\", \"time\", \"time\", \"touch\", \"touch\", \"trip\", \"trip\", \"try\", \"try\", \"try\", \"try\", \"try\", \"turn\", \"turn\", \"turn\", \"turn\", \"tv\", \"tv\", \"tv\", \"twin\", \"upgrade\", \"upgrade\", \"upgrade\", \"use\", \"use\", \"use\", \"use\", \"use\", \"video\", \"video\", \"video\", \"voice\", \"want\", \"want\", \"want\", \"want\", \"want\", \"warranty\", \"warranty\", \"warranty\", \"watch\", \"watch\", \"watching\", \"web\", \"wi\", \"wife\", \"wife\", \"wife\", \"work\", \"work\", \"work\", \"work\", \"work\", \"year\", \"year\", \"year\", \"year\", \"young\", \"yr\"]}, \"R\": 30, \"lambda.step\": 0.01, \"plot.opts\": {\"xlab\": \"PC1\", \"ylab\": \"PC2\"}, \"topic.order\": [4, 1, 2, 5, 3]};\n",
       "\n",
       "function LDAvis_load_lib(url, callback){\n",
       "  var s = document.createElement('script');\n",
       "  s.src = url;\n",
       "  s.async = true;\n",
       "  s.onreadystatechange = s.onload = callback;\n",
       "  s.onerror = function(){console.warn(\"failed to load library \" + url);};\n",
       "  document.getElementsByTagName(\"head\")[0].appendChild(s);\n",
       "}\n",
       "\n",
       "if(typeof(LDAvis) !== \"undefined\"){\n",
       "   // already loaded: just create the visualization\n",
       "   !function(LDAvis){\n",
       "       new LDAvis(\"#\" + \"ldavis_el696011406379358737443515247557\", ldavis_el696011406379358737443515247557_data);\n",
       "   }(LDAvis);\n",
       "}else if(typeof define === \"function\" && define.amd){\n",
       "   // require.js is available: use it to load d3/LDAvis\n",
       "   require.config({paths: {d3: \"https://cdnjs.cloudflare.com/ajax/libs/d3/3.5.5/d3.min\"}});\n",
       "   require([\"d3\"], function(d3){\n",
       "      window.d3 = d3;\n",
       "      LDAvis_load_lib(\"https://cdn.rawgit.com/bmabey/pyLDAvis/files/ldavis.v1.0.0.js\", function(){\n",
       "        new LDAvis(\"#\" + \"ldavis_el696011406379358737443515247557\", ldavis_el696011406379358737443515247557_data);\n",
       "      });\n",
       "    });\n",
       "}else{\n",
       "    // require.js not available: dynamically load d3 & LDAvis\n",
       "    LDAvis_load_lib(\"https://cdnjs.cloudflare.com/ajax/libs/d3/3.5.5/d3.min.js\", function(){\n",
       "         LDAvis_load_lib(\"https://cdn.rawgit.com/bmabey/pyLDAvis/files/ldavis.v1.0.0.js\", function(){\n",
       "                 new LDAvis(\"#\" + \"ldavis_el696011406379358737443515247557\", ldavis_el696011406379358737443515247557_data);\n",
       "            })\n",
       "         });\n",
       "}\n",
       "</script>"
      ],
      "text/plain": [
       "PreparedData(topic_coordinates=              x         y  topics  cluster       Freq\n",
       "topic                                                \n",
       "3      0.075114  0.059379       1        1  23.839653\n",
       "0      0.150421  0.130302       2        1  22.110514\n",
       "1     -0.132312 -0.032292       3        1  21.962053\n",
       "4      0.090316 -0.208943       4        1  18.543583\n",
       "2     -0.183538  0.051554       5        1  13.544198, topic_info=           Term         Freq        Total Category  logprob  loglift\n",
       "1382        kid  1898.000000  1898.000000  Default  30.0000  30.0000\n",
       "83         easy  2506.000000  2506.000000  Default  29.0000  29.0000\n",
       "239         use  3277.000000  3277.000000  Default  28.0000  28.0000\n",
       "6          love  4457.000000  4457.000000  Default  27.0000  27.0000\n",
       "901        gift   974.000000   974.000000  Default  26.0000  26.0000\n",
       "...         ...          ...          ...      ...      ...      ...\n",
       "189        item   124.559673   311.444150   Topic5  -5.2870   1.0828\n",
       "1542   daughter   154.629188   747.074825   Topic5  -5.0708   0.4241\n",
       "46         work   175.482499  1607.740362   Topic5  -4.9443  -0.2158\n",
       "200   recommend   146.364445   793.209478   Topic5  -5.1257   0.3092\n",
       "142        time   128.807575  1126.841281   Topic5  -5.2535  -0.1696\n",
       "\n",
       "[375 rows x 6 columns], token_table=      Topic      Freq   Term\n",
       "term                        \n",
       "3178      1  0.043064    128\n",
       "3178      4  0.925871    128\n",
       "487       1  0.040218     16\n",
       "487       4  0.908927     16\n",
       "487       5  0.040218     16\n",
       "...     ...       ...    ...\n",
       "133       3  0.879545   year\n",
       "133       4  0.111549   year\n",
       "133       5  0.004056   year\n",
       "1395      3  0.996812  young\n",
       "1544      3  0.996939     yr\n",
       "\n",
       "[663 rows x 3 columns], R=30, lambda_step=0.01, plot_opts={'xlab': 'PC1', 'ylab': 'PC2'}, topic_order=[4, 1, 2, 5, 3])"
      ]
     },
     "execution_count": 28,
     "metadata": {},
     "output_type": "execute_result"
    }
   ],
   "source": [
    "# analyze + visualize lda model\n",
    "\n",
    "import pyLDAvis.gensim\n",
    "\n",
    "pyLDAvis.enable_notebook()\n",
    "\n",
    "pyLDAvis.gensim.prepare(lda, corpus, id2word)"
   ]
  },
  {
   "cell_type": "code",
   "execution_count": 29,
   "metadata": {},
   "outputs": [
    {
     "data": {
      "text/plain": [
       "[(0, 0.2255033),\n",
       " (1, 0.2552626),\n",
       " (2, 0.4740507),\n",
       " (3, 0.022530911),\n",
       " (4, 0.022652434)]"
      ]
     },
     "execution_count": 29,
     "metadata": {},
     "output_type": "execute_result"
    }
   ],
   "source": [
    "distro = [lda[doc] for doc in corpus]\n",
    "distro[0]"
   ]
  },
  {
   "cell_type": "code",
   "execution_count": 30,
   "metadata": {},
   "outputs": [
    {
     "data": {
      "text/html": [
       "<div>\n",
       "<style scoped>\n",
       "    .dataframe tbody tr th:only-of-type {\n",
       "        vertical-align: middle;\n",
       "    }\n",
       "\n",
       "    .dataframe tbody tr th {\n",
       "        vertical-align: top;\n",
       "    }\n",
       "\n",
       "    .dataframe thead th {\n",
       "        text-align: right;\n",
       "    }\n",
       "</style>\n",
       "<table border=\"1\" class=\"dataframe\">\n",
       "  <thead>\n",
       "    <tr style=\"text-align: right;\">\n",
       "      <th></th>\n",
       "      <th>\"Amazon\", \"device\", \"screen\", \"like\", \"tablet\"</th>\n",
       "      <th>\"love\", \"kid\", \"tablet\", \"old\", \"year\"</th>\n",
       "      <th>\"easy\", \"use\", \"love\", \"gift\", \"great\"</th>\n",
       "      <th>\"tablet\", \"great\", \"book\", \"read\", \"use\"</th>\n",
       "      <th>\"tablet\", \"great\", \"price\", \"love\", \"Fire\"</th>\n",
       "    </tr>\n",
       "  </thead>\n",
       "  <tbody>\n",
       "    <tr>\n",
       "      <th>0</th>\n",
       "      <td>0.225503</td>\n",
       "      <td>0.255263</td>\n",
       "      <td>0.474051</td>\n",
       "      <td>0.022531</td>\n",
       "      <td>0.022652</td>\n",
       "    </tr>\n",
       "    <tr>\n",
       "      <th>1</th>\n",
       "      <td>0.595591</td>\n",
       "      <td>0.280024</td>\n",
       "      <td>0.117421</td>\n",
       "      <td>0.000000</td>\n",
       "      <td>0.000000</td>\n",
       "    </tr>\n",
       "    <tr>\n",
       "      <th>2</th>\n",
       "      <td>0.793643</td>\n",
       "      <td>0.051055</td>\n",
       "      <td>0.050431</td>\n",
       "      <td>0.054370</td>\n",
       "      <td>0.050502</td>\n",
       "    </tr>\n",
       "    <tr>\n",
       "      <th>3</th>\n",
       "      <td>0.901155</td>\n",
       "      <td>0.043689</td>\n",
       "      <td>0.000000</td>\n",
       "      <td>0.028305</td>\n",
       "      <td>0.025484</td>\n",
       "    </tr>\n",
       "    <tr>\n",
       "      <th>4</th>\n",
       "      <td>0.748985</td>\n",
       "      <td>0.016323</td>\n",
       "      <td>0.015597</td>\n",
       "      <td>0.015712</td>\n",
       "      <td>0.203383</td>\n",
       "    </tr>\n",
       "  </tbody>\n",
       "</table>\n",
       "</div>"
      ],
      "text/plain": [
       "   \"Amazon\", \"device\", \"screen\", \"like\", \"tablet\"  \\\n",
       "0                                        0.225503   \n",
       "1                                        0.595591   \n",
       "2                                        0.793643   \n",
       "3                                        0.901155   \n",
       "4                                        0.748985   \n",
       "\n",
       "   \"love\", \"kid\", \"tablet\", \"old\", \"year\"  \\\n",
       "0                                0.255263   \n",
       "1                                0.280024   \n",
       "2                                0.051055   \n",
       "3                                0.043689   \n",
       "4                                0.016323   \n",
       "\n",
       "   \"easy\", \"use\", \"love\", \"gift\", \"great\"  \\\n",
       "0                                0.474051   \n",
       "1                                0.117421   \n",
       "2                                0.050431   \n",
       "3                                0.000000   \n",
       "4                                0.015597   \n",
       "\n",
       "   \"tablet\", \"great\", \"book\", \"read\", \"use\"  \\\n",
       "0                                  0.022531   \n",
       "1                                  0.000000   \n",
       "2                                  0.054370   \n",
       "3                                  0.028305   \n",
       "4                                  0.015712   \n",
       "\n",
       "   \"tablet\", \"great\", \"price\", \"love\", \"Fire\"  \n",
       "0                                    0.022652  \n",
       "1                                    0.000000  \n",
       "2                                    0.050502  \n",
       "3                                    0.025484  \n",
       "4                                    0.203383  "
      ]
     },
     "execution_count": 30,
     "metadata": {},
     "output_type": "execute_result"
    }
   ],
   "source": [
    "def update(doc):\n",
    "    d_dist = {k:0 for k in range(0,5)}\n",
    "    for t in doc:\n",
    "        d_dist[t[0]] = t[1]\n",
    "    return d_dist\n",
    "\n",
    "new_distro = [update(doc) for doc in distro]\n",
    "\n",
    "topics = pd.DataFrame.from_records(new_distro)\n",
    "topics.columns = topic_labels\n",
    "\n",
    "topics.head()"
   ]
  },
  {
   "cell_type": "code",
   "execution_count": 32,
   "metadata": {},
   "outputs": [
    {
     "data": {
      "text/plain": [
       "\"tablet\", \"great\", \"price\", \"love\", \"Fire\"        512\n",
       "\"tablet\", \"great\", \"book\", \"read\", \"use\"          484\n",
       "\"easy\", \"use\", \"love\", \"gift\", \"great\"            329\n",
       "\"love\", \"kid\", \"tablet\", \"old\", \"year\"            201\n",
       "\"Amazon\", \"device\", \"screen\", \"like\", \"tablet\"    164\n",
       "Name: primary_topic, dtype: int64"
      ]
     },
     "execution_count": 32,
     "metadata": {},
     "output_type": "execute_result"
    }
   ],
   "source": [
    "df['primary_topic'] = topics.idxmax(axis=1)\n",
    "df['primary_topic'].value_counts()"
   ]
  },
  {
   "cell_type": "code",
   "execution_count": 33,
   "metadata": {},
   "outputs": [
    {
     "data": {
      "text/html": [
       "<div>\n",
       "<style scoped>\n",
       "    .dataframe tbody tr th:only-of-type {\n",
       "        vertical-align: middle;\n",
       "    }\n",
       "\n",
       "    .dataframe tbody tr th {\n",
       "        vertical-align: top;\n",
       "    }\n",
       "\n",
       "    .dataframe thead tr th {\n",
       "        text-align: left;\n",
       "    }\n",
       "\n",
       "    .dataframe thead tr:last-of-type th {\n",
       "        text-align: right;\n",
       "    }\n",
       "</style>\n",
       "<table border=\"1\" class=\"dataframe\">\n",
       "  <thead>\n",
       "    <tr>\n",
       "      <th></th>\n",
       "      <th colspan=\"5\" halign=\"left\">reviews.text</th>\n",
       "    </tr>\n",
       "    <tr>\n",
       "      <th>reviews.rating</th>\n",
       "      <th>1</th>\n",
       "      <th>2</th>\n",
       "      <th>3</th>\n",
       "      <th>4</th>\n",
       "      <th>5</th>\n",
       "    </tr>\n",
       "    <tr>\n",
       "      <th>primary_topic</th>\n",
       "      <th></th>\n",
       "      <th></th>\n",
       "      <th></th>\n",
       "      <th></th>\n",
       "      <th></th>\n",
       "    </tr>\n",
       "  </thead>\n",
       "  <tbody>\n",
       "    <tr>\n",
       "      <th>\"Amazon\", \"device\", \"screen\", \"like\", \"tablet\"</th>\n",
       "      <td>3</td>\n",
       "      <td>1</td>\n",
       "      <td>8</td>\n",
       "      <td>34</td>\n",
       "      <td>118</td>\n",
       "    </tr>\n",
       "    <tr>\n",
       "      <th>\"easy\", \"use\", \"love\", \"gift\", \"great\"</th>\n",
       "      <td>7</td>\n",
       "      <td>6</td>\n",
       "      <td>12</td>\n",
       "      <td>66</td>\n",
       "      <td>238</td>\n",
       "    </tr>\n",
       "    <tr>\n",
       "      <th>\"love\", \"kid\", \"tablet\", \"old\", \"year\"</th>\n",
       "      <td>2</td>\n",
       "      <td>2</td>\n",
       "      <td>9</td>\n",
       "      <td>51</td>\n",
       "      <td>137</td>\n",
       "    </tr>\n",
       "    <tr>\n",
       "      <th>\"tablet\", \"great\", \"book\", \"read\", \"use\"</th>\n",
       "      <td>7</td>\n",
       "      <td>12</td>\n",
       "      <td>20</td>\n",
       "      <td>107</td>\n",
       "      <td>338</td>\n",
       "    </tr>\n",
       "    <tr>\n",
       "      <th>\"tablet\", \"great\", \"price\", \"love\", \"Fire\"</th>\n",
       "      <td>7</td>\n",
       "      <td>9</td>\n",
       "      <td>21</td>\n",
       "      <td>105</td>\n",
       "      <td>370</td>\n",
       "    </tr>\n",
       "  </tbody>\n",
       "</table>\n",
       "</div>"
      ],
      "text/plain": [
       "                                               reviews.text                  \n",
       "reviews.rating                                            1   2   3    4    5\n",
       "primary_topic                                                                \n",
       "\"Amazon\", \"device\", \"screen\", \"like\", \"tablet\"            3   1   8   34  118\n",
       "\"easy\", \"use\", \"love\", \"gift\", \"great\"                    7   6  12   66  238\n",
       "\"love\", \"kid\", \"tablet\", \"old\", \"year\"                    2   2   9   51  137\n",
       "\"tablet\", \"great\", \"book\", \"read\", \"use\"                  7  12  20  107  338\n",
       "\"tablet\", \"great\", \"price\", \"love\", \"Fire\"                7   9  21  105  370"
      ]
     },
     "execution_count": 33,
     "metadata": {},
     "output_type": "execute_result"
    }
   ],
   "source": [
    "agg = pd.pivot_table(df, values=['reviews.text'], \n",
    "                     index=['primary_topic'], \n",
    "                     columns=['reviews.rating'], aggfunc='count')\n",
    "agg"
   ]
  },
  {
   "cell_type": "code",
   "execution_count": 34,
   "metadata": {},
   "outputs": [
    {
     "data": {
      "text/html": [
       "<div>\n",
       "<style scoped>\n",
       "    .dataframe tbody tr th:only-of-type {\n",
       "        vertical-align: middle;\n",
       "    }\n",
       "\n",
       "    .dataframe tbody tr th {\n",
       "        vertical-align: top;\n",
       "    }\n",
       "\n",
       "    .dataframe thead tr th {\n",
       "        text-align: left;\n",
       "    }\n",
       "</style>\n",
       "<table border=\"1\" class=\"dataframe\">\n",
       "  <thead>\n",
       "    <tr>\n",
       "      <th></th>\n",
       "      <th>primary_topic</th>\n",
       "      <th colspan=\"5\" halign=\"left\">reviews.text</th>\n",
       "    </tr>\n",
       "    <tr>\n",
       "      <th>reviews.rating</th>\n",
       "      <th></th>\n",
       "      <th>1</th>\n",
       "      <th>2</th>\n",
       "      <th>3</th>\n",
       "      <th>4</th>\n",
       "      <th>5</th>\n",
       "    </tr>\n",
       "  </thead>\n",
       "  <tbody>\n",
       "    <tr>\n",
       "      <th>0</th>\n",
       "      <td>\"Amazon\", \"device\", \"screen\", \"like\", \"tablet\"</td>\n",
       "      <td>3</td>\n",
       "      <td>1</td>\n",
       "      <td>8</td>\n",
       "      <td>34</td>\n",
       "      <td>118</td>\n",
       "    </tr>\n",
       "    <tr>\n",
       "      <th>1</th>\n",
       "      <td>\"easy\", \"use\", \"love\", \"gift\", \"great\"</td>\n",
       "      <td>7</td>\n",
       "      <td>6</td>\n",
       "      <td>12</td>\n",
       "      <td>66</td>\n",
       "      <td>238</td>\n",
       "    </tr>\n",
       "    <tr>\n",
       "      <th>2</th>\n",
       "      <td>\"love\", \"kid\", \"tablet\", \"old\", \"year\"</td>\n",
       "      <td>2</td>\n",
       "      <td>2</td>\n",
       "      <td>9</td>\n",
       "      <td>51</td>\n",
       "      <td>137</td>\n",
       "    </tr>\n",
       "    <tr>\n",
       "      <th>3</th>\n",
       "      <td>\"tablet\", \"great\", \"book\", \"read\", \"use\"</td>\n",
       "      <td>7</td>\n",
       "      <td>12</td>\n",
       "      <td>20</td>\n",
       "      <td>107</td>\n",
       "      <td>338</td>\n",
       "    </tr>\n",
       "    <tr>\n",
       "      <th>4</th>\n",
       "      <td>\"tablet\", \"great\", \"price\", \"love\", \"Fire\"</td>\n",
       "      <td>7</td>\n",
       "      <td>9</td>\n",
       "      <td>21</td>\n",
       "      <td>105</td>\n",
       "      <td>370</td>\n",
       "    </tr>\n",
       "  </tbody>\n",
       "</table>\n",
       "</div>"
      ],
      "text/plain": [
       "                                                 primary_topic reviews.text  \\\n",
       "reviews.rating                                                            1   \n",
       "0               \"Amazon\", \"device\", \"screen\", \"like\", \"tablet\"            3   \n",
       "1                       \"easy\", \"use\", \"love\", \"gift\", \"great\"            7   \n",
       "2                       \"love\", \"kid\", \"tablet\", \"old\", \"year\"            2   \n",
       "3                     \"tablet\", \"great\", \"book\", \"read\", \"use\"            7   \n",
       "4                   \"tablet\", \"great\", \"price\", \"love\", \"Fire\"            7   \n",
       "\n",
       "                                  \n",
       "reviews.rating   2   3    4    5  \n",
       "0                1   8   34  118  \n",
       "1                6  12   66  238  \n",
       "2                2   9   51  137  \n",
       "3               12  20  107  338  \n",
       "4                9  21  105  370  "
      ]
     },
     "execution_count": 34,
     "metadata": {},
     "output_type": "execute_result"
    }
   ],
   "source": [
    "agg = agg.reset_index()\n",
    "agg"
   ]
  },
  {
   "cell_type": "code",
   "execution_count": 35,
   "metadata": {},
   "outputs": [
    {
     "data": {
      "text/html": [
       "<div>\n",
       "<style scoped>\n",
       "    .dataframe tbody tr th:only-of-type {\n",
       "        vertical-align: middle;\n",
       "    }\n",
       "\n",
       "    .dataframe tbody tr th {\n",
       "        vertical-align: top;\n",
       "    }\n",
       "\n",
       "    .dataframe thead th {\n",
       "        text-align: right;\n",
       "    }\n",
       "</style>\n",
       "<table border=\"1\" class=\"dataframe\">\n",
       "  <thead>\n",
       "    <tr style=\"text-align: right;\">\n",
       "      <th></th>\n",
       "      <th>primary_topic</th>\n",
       "      <th>1</th>\n",
       "      <th>2</th>\n",
       "      <th>3</th>\n",
       "      <th>4</th>\n",
       "      <th>5</th>\n",
       "    </tr>\n",
       "  </thead>\n",
       "  <tbody>\n",
       "    <tr>\n",
       "      <th>0</th>\n",
       "      <td>\"Amazon\", \"device\", \"screen\", \"like\", \"tablet\"</td>\n",
       "      <td>3</td>\n",
       "      <td>1</td>\n",
       "      <td>8</td>\n",
       "      <td>34</td>\n",
       "      <td>118</td>\n",
       "    </tr>\n",
       "    <tr>\n",
       "      <th>1</th>\n",
       "      <td>\"easy\", \"use\", \"love\", \"gift\", \"great\"</td>\n",
       "      <td>7</td>\n",
       "      <td>6</td>\n",
       "      <td>12</td>\n",
       "      <td>66</td>\n",
       "      <td>238</td>\n",
       "    </tr>\n",
       "    <tr>\n",
       "      <th>2</th>\n",
       "      <td>\"love\", \"kid\", \"tablet\", \"old\", \"year\"</td>\n",
       "      <td>2</td>\n",
       "      <td>2</td>\n",
       "      <td>9</td>\n",
       "      <td>51</td>\n",
       "      <td>137</td>\n",
       "    </tr>\n",
       "    <tr>\n",
       "      <th>3</th>\n",
       "      <td>\"tablet\", \"great\", \"book\", \"read\", \"use\"</td>\n",
       "      <td>7</td>\n",
       "      <td>12</td>\n",
       "      <td>20</td>\n",
       "      <td>107</td>\n",
       "      <td>338</td>\n",
       "    </tr>\n",
       "    <tr>\n",
       "      <th>4</th>\n",
       "      <td>\"tablet\", \"great\", \"price\", \"love\", \"Fire\"</td>\n",
       "      <td>7</td>\n",
       "      <td>9</td>\n",
       "      <td>21</td>\n",
       "      <td>105</td>\n",
       "      <td>370</td>\n",
       "    </tr>\n",
       "  </tbody>\n",
       "</table>\n",
       "</div>"
      ],
      "text/plain": [
       "                                    primary_topic  1   2   3    4    5\n",
       "0  \"Amazon\", \"device\", \"screen\", \"like\", \"tablet\"  3   1   8   34  118\n",
       "1          \"easy\", \"use\", \"love\", \"gift\", \"great\"  7   6  12   66  238\n",
       "2          \"love\", \"kid\", \"tablet\", \"old\", \"year\"  2   2   9   51  137\n",
       "3        \"tablet\", \"great\", \"book\", \"read\", \"use\"  7  12  20  107  338\n",
       "4      \"tablet\", \"great\", \"price\", \"love\", \"Fire\"  7   9  21  105  370"
      ]
     },
     "execution_count": 35,
     "metadata": {},
     "output_type": "execute_result"
    }
   ],
   "source": [
    "agg.columns = ['primary_topic', '1','2','3','4','5']\n",
    "agg.head()"
   ]
  },
  {
   "cell_type": "code",
   "execution_count": 37,
   "metadata": {},
   "outputs": [
    {
     "data": {
      "image/png": "[encoded data removed]",
      "text/plain": [
       "<Figure size 720x1080 with 1 Axes>"
      ]
     },
     "metadata": {},
     "output_type": "display_data"
    }
   ],
   "source": [
    "import seaborn as sns\n",
    "import matplotlib.pyplot as plt\n",
    "\n",
    "sns.set(style=\"whitegrid\")\n",
    "\n",
    "f, ax = plt.subplots(figsize=(10, 15))\n",
    "\n",
    "# sns.set_color_codes('pastel')\n",
    "sns.barplot(x='1', y='primary_topic', data=agg, label=\"Rating1\", color=\"pink\")\n",
    "\n",
    "# sns.set_color_codes('muted')\n",
    "sns.barplot(x='2', y='primary_topic', data=agg, label=\"Rating2\", color=\"purple\")\n",
    "\n",
    "# sns.set_color_codes('deep')\n",
    "sns.barplot(x='3', y='primary_topic', data=agg, label=\"Rating3\", color=\"blue\")\n",
    "\n",
    "\n",
    "sns.barplot(x='4', y='primary_topic', data=agg, label=\"Rating4\", color=\"yellow\")\n",
    "\n",
    "sns.barplot(x='5', y='primary_topic', data=agg, label=\"Rating5\", color=\"green\")\n",
    "\n",
    "ax.legend(ncol=5, loc=\"lower right\", frameon=True)\n",
    "ax.set(xlim=(0,5000), ylabel=\"\", xlabel=\"Count of Reviews\")\n",
    "sns.despine(left=True, bottom=True)"
   ]
  },
  {
   "cell_type": "markdown",
   "metadata": {},
   "source": [
    "## Stretch Goals\n",
    "\n",
    "* Incorporate Named Entity Recognition in your analysis\n",
    "* Incorporate some custom pre-processing from our previous lessons (like spacy lemmatization)\n",
    "* Analyze a dataset of interest to you with topic modeling"
   ]
  }
 ],
 "metadata": {
  "kernelspec": {
   "display_name": "U4-S1-NLP",
   "language": "python",
   "name": "u4-s1-nlp"
  },
  "language_info": {
   "codemirror_mode": {
    "name": "ipython",
    "version": 3
   },
   "file_extension": ".py",
   "mimetype": "text/x-python",
   "name": "python",
   "nbconvert_exporter": "python",
   "pygments_lexer": "ipython3",
   "version": "3.7.0"
  }
 },
 "nbformat": 4,
 "nbformat_minor": 4
}
